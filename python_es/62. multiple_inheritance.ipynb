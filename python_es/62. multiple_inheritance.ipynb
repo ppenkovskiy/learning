{
 "cells": [
  {
   "cell_type": "code",
   "execution_count": 11,
   "id": "e7e966d7-a61d-428c-91a0-2be78363cbbc",
   "metadata": {},
   "outputs": [],
   "source": [
    "class Animal:\n",
    "    def die(self):\n",
    "        print('Animal dying')\n",
    "        self.health = 0\n",
    "         \n",
    "class Carnivour:\n",
    "    def hunt(self):\n",
    "        print('Carnivour hunting')\n",
    "        self.satiety = 100\n",
    "        \n",
    "class Dog(Animal, Carnivour):\n",
    "    def bark(self):\n",
    "        print('Dog barking')"
   ]
  },
  {
   "cell_type": "code",
   "execution_count": 13,
   "id": "8ece617f-e5d8-4470-b24e-5ba74e8b36bb",
   "metadata": {},
   "outputs": [
    {
     "name": "stdout",
     "output_type": "stream",
     "text": [
      "Dog barking\n",
      "Carnivour hunting\n",
      "Animal dying\n"
     ]
    }
   ],
   "source": [
    "dog = Dog()\n",
    "dog.bark()\n",
    "dog.hunt()\n",
    "dog.die()"
   ]
  },
  {
   "cell_type": "code",
   "execution_count": 45,
   "id": "5ebcb77f-6f8a-4604-af98-86eb34f74731",
   "metadata": {},
   "outputs": [],
   "source": [
    "class Animal:\n",
    "    def set_health(self, health):\n",
    "        print(f\"Set in animal\")\n",
    "         \n",
    "class Carnivour(Animal):\n",
    "    def set_health(self, health):\n",
    "        print(f\"Set in carnivour\")\n",
    "        \n",
    "class Mammal(Animal):\n",
    "    def set_health(self, health):\n",
    "        print('Set in mammal')\n",
    "        \n",
    "class Dog(Carnivour, Mammal):\n",
    "    pass"
   ]
  },
  {
   "cell_type": "code",
   "execution_count": 46,
   "id": "407a17c9-3fa6-44d7-88f4-e43765780f3a",
   "metadata": {},
   "outputs": [
    {
     "name": "stdout",
     "output_type": "stream",
     "text": [
      "Set in carnivour\n"
     ]
    }
   ],
   "source": [
    "dog = Dog()\n",
    "dog.set_health(100)"
   ]
  },
  {
   "cell_type": "code",
   "execution_count": 56,
   "id": "f04162ef-274b-4839-b085-dce9dd0f2905",
   "metadata": {},
   "outputs": [],
   "source": [
    "class Animal:\n",
    "    def set_health(self, health):\n",
    "        print(f\"Set in animal\")\n",
    "         \n",
    "class Carnivour(Animal):\n",
    "    def set_health(self, health):\n",
    "        # Animal.set_health(self, health)\n",
    "        super().set_health(health)\n",
    "        print(f\"Set in carnivour\")\n",
    "        \n",
    "class Mammal(Animal):\n",
    "    def set_health(self, health):\n",
    "        # Animal.set_health(self, health)\n",
    "        super().set_health(health)\n",
    "        print('Set in mammal')\n",
    "        \n",
    "class Dog(Mammal, Carnivour):\n",
    "    def set_health(self, health):\n",
    "        super().set_health(health)\n",
    "        # Mammal.set_health(self, health)\n",
    "        # Carnivour.set_health(self, health)\n",
    "        print('Set in dog')"
   ]
  },
  {
   "cell_type": "code",
   "execution_count": 58,
   "id": "44c2f8f8-611a-4253-8cc7-5f01e405a6cb",
   "metadata": {},
   "outputs": [
    {
     "name": "stdout",
     "output_type": "stream",
     "text": [
      "Set in animal\n",
      "Set in carnivour\n",
      "Set in mammal\n",
      "Set in dog\n"
     ]
    }
   ],
   "source": [
    "dog = Dog()\n",
    "dog.set_health(100)"
   ]
  },
  {
   "cell_type": "code",
   "execution_count": 70,
   "id": "dc7d03b0-6e71-4e75-945f-886258a2c470",
   "metadata": {},
   "outputs": [],
   "source": [
    "class Animal:\n",
    "    \n",
    "    def __init__(self):\n",
    "        self.health = 100\n",
    "        \n",
    "    def hit(self, damage):\n",
    "        self.health -= damage\n",
    "        \n",
    "class Carnivour(Animal):\n",
    "    def __init__(self):\n",
    "        super().__init__()\n",
    "        self.legs = 4        "
   ]
  },
  {
   "cell_type": "code",
   "execution_count": 72,
   "id": "cbe8d4b2-6d71-4b93-a317-d9bbe420345b",
   "metadata": {},
   "outputs": [
    {
     "name": "stdout",
     "output_type": "stream",
     "text": [
      "90\n",
      "4\n"
     ]
    }
   ],
   "source": [
    "c = Carnivour()\n",
    "c.hit(10)\n",
    "print(c.health)\n",
    "print(c.legs)"
   ]
  },
  {
   "cell_type": "code",
   "execution_count": null,
   "id": "50714cf9-fb83-471e-84f9-971e8ef76787",
   "metadata": {},
   "outputs": [],
   "source": []
  }
 ],
 "metadata": {
  "kernelspec": {
   "display_name": "Python 3 (ipykernel)",
   "language": "python",
   "name": "python3"
  },
  "language_info": {
   "codemirror_mode": {
    "name": "ipython",
    "version": 3
   },
   "file_extension": ".py",
   "mimetype": "text/x-python",
   "name": "python",
   "nbconvert_exporter": "python",
   "pygments_lexer": "ipython3",
   "version": "3.10.9"
  }
 },
 "nbformat": 4,
 "nbformat_minor": 5
}
