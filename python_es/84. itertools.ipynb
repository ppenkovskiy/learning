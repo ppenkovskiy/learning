{
 "cells": [
  {
   "cell_type": "code",
   "execution_count": 29,
   "id": "aeb54f75-cb6c-42b4-9897-40d1e0b0b24e",
   "metadata": {},
   "outputs": [],
   "source": [
    "# Iterator is an object that is used to iterate over an iterable object using __next__() dunder-method."
   ]
  },
  {
   "cell_type": "code",
   "execution_count": 30,
   "id": "f12d9d01-8dd9-44c5-9fb5-82d36ad67627",
   "metadata": {},
   "outputs": [],
   "source": [
    "iterable = [1, 2, 3]"
   ]
  },
  {
   "cell_type": "code",
   "execution_count": 31,
   "id": "218276d3-777c-47c9-a21d-1c4f001c9e9b",
   "metadata": {},
   "outputs": [
    {
     "name": "stdout",
     "output_type": "stream",
     "text": [
      "<class 'list_iterator'>\n",
      "1\n",
      "2\n",
      "3\n"
     ]
    }
   ],
   "source": [
    "iterator = iter(iterable) # __iter__() method will be called\n",
    "print(type(iterator))\n",
    "print(next(iterator)) # __next__() method will be called\n",
    "print(next(iterator))\n",
    "print(next(iterator))"
   ]
  },
  {
   "cell_type": "code",
   "execution_count": 32,
   "id": "da0008f2-3048-4eb2-bb0e-cd620cb72e43",
   "metadata": {},
   "outputs": [],
   "source": [
    "import itertools as it"
   ]
  },
  {
   "cell_type": "code",
   "execution_count": 33,
   "id": "31f07afa-4392-4bd3-be20-cf75b9f27972",
   "metadata": {},
   "outputs": [
    {
     "name": "stdout",
     "output_type": "stream",
     "text": [
      "[0, 2, 4, 6, 8]\n"
     ]
    }
   ],
   "source": [
    "even_numbers = [x for x in range(10) if x % 2 == 0]\n",
    "print(even_numbers)"
   ]
  },
  {
   "cell_type": "code",
   "execution_count": 34,
   "id": "25820754-8897-43af-ae01-5fffa05c8284",
   "metadata": {},
   "outputs": [
    {
     "data": {
      "text/plain": [
       "count(0, 2)"
      ]
     },
     "execution_count": 34,
     "metadata": {},
     "output_type": "execute_result"
    }
   ],
   "source": [
    "even_numbers = it.count(0, 2)\n",
    "even_numbers"
   ]
  },
  {
   "cell_type": "code",
   "execution_count": 35,
   "id": "2d0ecff4-182a-448e-b382-a2c199c54fa1",
   "metadata": {},
   "outputs": [
    {
     "data": {
      "text/plain": [
       "[0, 2, 4, 6, 8]"
      ]
     },
     "execution_count": 35,
     "metadata": {},
     "output_type": "execute_result"
    }
   ],
   "source": [
    "list(next(even_numbers) for _ in range(5))"
   ]
  },
  {
   "cell_type": "code",
   "execution_count": 36,
   "id": "79e6386c-d48c-49f7-8ae6-6e93d9129d21",
   "metadata": {},
   "outputs": [
    {
     "data": {
      "text/plain": [
       "[(0, 'a'), (1, 'b'), (2, 'c')]"
      ]
     },
     "execution_count": 36,
     "metadata": {},
     "output_type": "execute_result"
    }
   ],
   "source": [
    "list(zip(it.count(), ['a', 'b', 'c']))"
   ]
  },
  {
   "cell_type": "code",
   "execution_count": 37,
   "id": "5eb9e5c1-1a81-4604-b3f1-bf0afb563e18",
   "metadata": {},
   "outputs": [],
   "source": [
    "def print_iterable(iterable, end=None):\n",
    "    for x in iterable:\n",
    "        if end:\n",
    "            print(x, end = end)\n",
    "        else:\n",
    "            print(x)"
   ]
  },
  {
   "cell_type": "code",
   "execution_count": 38,
   "id": "37b2f2f0-e966-498e-9fb7-472b6df8ebaa",
   "metadata": {},
   "outputs": [],
   "source": [
    "ones = it.repeat(1, 5)"
   ]
  },
  {
   "cell_type": "code",
   "execution_count": 39,
   "id": "8c2bf2a6-5602-41b3-ba6c-9965eb03c5b6",
   "metadata": {},
   "outputs": [
    {
     "name": "stdout",
     "output_type": "stream",
     "text": [
      "1 1 1 1 1 "
     ]
    }
   ],
   "source": [
    "print_iterable(ones, ' ')"
   ]
  },
  {
   "cell_type": "code",
   "execution_count": 40,
   "id": "50c318db-27b1-4b68-a7d5-6b126429b16d",
   "metadata": {},
   "outputs": [
    {
     "data": {
      "text/plain": [
       "[0, 1, 4, 9, 16, 25, 36, 49, 64, 81]"
      ]
     },
     "execution_count": 40,
     "metadata": {},
     "output_type": "execute_result"
    }
   ],
   "source": [
    "list(map(pow, range(10), it.repeat(2)))"
   ]
  },
  {
   "cell_type": "code",
   "execution_count": 43,
   "id": "5b28d866-2063-4a32-b9b1-7a8cd9c0470b",
   "metadata": {},
   "outputs": [
    {
     "name": "stdout",
     "output_type": "stream",
     "text": [
      "[1, -1, 1, -1, 1, -1, 1, -1, 1, -1]\n",
      "['A', 'B', 'C', 'A', 'B', 'C', 'A', 'B', 'C', 'A']\n"
     ]
    }
   ],
   "source": [
    "pos_neg_ones = it.cycle([1, -1])\n",
    "print(list(next(pos_neg_ones) for _ in range(10)))\n",
    "\n",
    "letters = it.cycle(['A', 'B', 'C'])\n",
    "print(list(next(letters) for _ in range(10)))"
   ]
  },
  {
   "cell_type": "code",
   "execution_count": 44,
   "id": "f9c4727a-233e-48b0-b242-ef81379e6a28",
   "metadata": {},
   "outputs": [
    {
     "data": {
      "text/plain": [
       "[1, 3, 6, 10, 15]"
      ]
     },
     "execution_count": 44,
     "metadata": {},
     "output_type": "execute_result"
    }
   ],
   "source": [
    "list(it.accumulate([1, 2, 3, 4, 5])) "
   ]
  },
  {
   "cell_type": "code",
   "execution_count": 48,
   "id": "889ee7d3-aa16-4f35-9e69-dc41ee85fa0a",
   "metadata": {},
   "outputs": [
    {
     "data": {
      "text/plain": [
       "['A', 'AB', 'ABC', 'ABCD']"
      ]
     },
     "execution_count": 48,
     "metadata": {},
     "output_type": "execute_result"
    }
   ],
   "source": [
    "list(it.accumulate(['A', 'B', 'C', 'D']))"
   ]
  },
  {
   "cell_type": "code",
   "execution_count": 49,
   "id": "45c7a694-140e-4aac-8f04-e146766b6767",
   "metadata": {},
   "outputs": [],
   "source": [
    "# finish later"
   ]
  },
  {
   "cell_type": "code",
   "execution_count": null,
   "id": "156ba14e-dc76-4af5-ae87-93ecc2f4ec86",
   "metadata": {},
   "outputs": [],
   "source": []
  }
 ],
 "metadata": {
  "kernelspec": {
   "display_name": "Python 3 (ipykernel)",
   "language": "python",
   "name": "python3"
  },
  "language_info": {
   "codemirror_mode": {
    "name": "ipython",
    "version": 3
   },
   "file_extension": ".py",
   "mimetype": "text/x-python",
   "name": "python",
   "nbconvert_exporter": "python",
   "pygments_lexer": "ipython3",
   "version": "3.10.9"
  }
 },
 "nbformat": 4,
 "nbformat_minor": 5
}
