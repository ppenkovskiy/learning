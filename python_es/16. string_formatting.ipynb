{
 "cells": [
  {
   "cell_type": "code",
   "execution_count": 4,
   "id": "6278dd38-f2fd-4bc6-8cec-8ecc46b752e6",
   "metadata": {},
   "outputs": [
    {
     "name": "stdout",
     "output_type": "stream",
     "text": [
      "My name is Pavel and i'm 29\n"
     ]
    }
   ],
   "source": [
    "name = 'Pavel'\n",
    "age = 29\n",
    "print(\"My name is {} and i'm {}\".format(name, age))"
   ]
  },
  {
   "cell_type": "code",
   "execution_count": 1,
   "id": "86219c97-65b8-4d0e-b3bf-3fbb38df185f",
   "metadata": {},
   "outputs": [
    {
     "name": "stdout",
     "output_type": "stream",
     "text": [
      "My name is Pavel and i'm 29\n"
     ]
    }
   ],
   "source": [
    "name = 'Pavel'\n",
    "age = 29\n",
    "print(f\"My name is {name} and i'm {age}\")"
   ]
  },
  {
   "cell_type": "code",
   "execution_count": null,
   "id": "0181d5d8-bfd8-47bb-91a9-395dba5d02e9",
   "metadata": {},
   "outputs": [],
   "source": []
  }
 ],
 "metadata": {
  "kernelspec": {
   "display_name": "Python 3 (ipykernel)",
   "language": "python",
   "name": "python3"
  },
  "language_info": {
   "codemirror_mode": {
    "name": "ipython",
    "version": 3
   },
   "file_extension": ".py",
   "mimetype": "text/x-python",
   "name": "python",
   "nbconvert_exporter": "python",
   "pygments_lexer": "ipython3",
   "version": "3.10.9"
  }
 },
 "nbformat": 4,
 "nbformat_minor": 5
}
