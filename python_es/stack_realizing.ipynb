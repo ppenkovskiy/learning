{
 "cells": [
  {
   "cell_type": "code",
   "execution_count": 5,
   "id": "f8c38250-3cb2-4d98-9dc0-ff2787bdff16",
   "metadata": {},
   "outputs": [],
   "source": [
    "class MyStack:\n",
    "    def __init__(self):\n",
    "        self.array = []\n",
    "    \n",
    "    def push(self, item):\n",
    "        self.array.append(item)\n",
    "        \n",
    "    def pop(self):\n",
    "        popped_item = self.array.pop()\n",
    "        return popped_item\n",
    "    \n",
    "    def peek(self):\n",
    "        return self.__current\n",
    "    \n",
    "    def __current(self):\n",
    "        return self.array[self.count()-1]\n",
    "    \n",
    "    def count(self):\n",
    "        return len(self.array)\n",
    "    \n",
    "    def __iter__(self):\n",
    "        self.index = self.count()-1\n",
    "        \n",
    "    def __next__(self):\n",
    "        if self.index < 0:\n",
    "            raise StopIteration()\n",
    "        result = self.array[self.index]\n",
    "        \n",
    "        self.index -= 1\n",
    "        return result"
   ]
  },
  {
   "cell_type": "code",
   "execution_count": 6,
   "id": "16ebe11d-70aa-47f4-97f0-eec666532e47",
   "metadata": {},
   "outputs": [],
   "source": [
    "stack = MyStack()\n",
    "stack.push(1)\n",
    "stack.push(2)"
   ]
  },
  {
   "cell_type": "code",
   "execution_count": null,
   "id": "ba222cb5-58db-4c11-999c-b991442ff44c",
   "metadata": {},
   "outputs": [],
   "source": []
  }
 ],
 "metadata": {
  "kernelspec": {
   "display_name": "Python 3 (ipykernel)",
   "language": "python",
   "name": "python3"
  },
  "language_info": {
   "codemirror_mode": {
    "name": "ipython",
    "version": 3
   },
   "file_extension": ".py",
   "mimetype": "text/x-python",
   "name": "python",
   "nbconvert_exporter": "python",
   "pygments_lexer": "ipython3",
   "version": "3.10.9"
  }
 },
 "nbformat": 4,
 "nbformat_minor": 5
}
