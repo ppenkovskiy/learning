{
 "cells": [
  {
   "cell_type": "code",
   "execution_count": 1,
   "id": "2a459267-43cb-45ec-b721-a62e9798b537",
   "metadata": {},
   "outputs": [],
   "source": [
    "import requests"
   ]
  },
  {
   "cell_type": "code",
   "execution_count": 2,
   "id": "45216d4c-a3f7-4c1f-92e4-bf2a5554e175",
   "metadata": {},
   "outputs": [],
   "source": [
    "response = requests.get(\"https://www.engineerspock.com\")"
   ]
  },
  {
   "cell_type": "code",
   "execution_count": 3,
   "id": "e8ccdcab-fbf9-4aef-a9f0-fc3d600f9ea4",
   "metadata": {},
   "outputs": [
    {
     "data": {
      "text/plain": [
       "<Response [200]>"
      ]
     },
     "execution_count": 3,
     "metadata": {},
     "output_type": "execute_result"
    }
   ],
   "source": [
    "response"
   ]
  },
  {
   "cell_type": "code",
   "execution_count": 4,
   "id": "acf31091-dd2d-4d51-aa76-998964e0311e",
   "metadata": {},
   "outputs": [
    {
     "data": {
      "text/plain": [
       "requests.models.Response"
      ]
     },
     "execution_count": 4,
     "metadata": {},
     "output_type": "execute_result"
    }
   ],
   "source": [
    "type(response)"
   ]
  },
  {
   "cell_type": "code",
   "execution_count": 5,
   "id": "545e93e7-0b21-4009-99f6-05e19dfe9330",
   "metadata": {},
   "outputs": [
    {
     "data": {
      "text/plain": [
       "200"
      ]
     },
     "execution_count": 5,
     "metadata": {},
     "output_type": "execute_result"
    }
   ],
   "source": [
    "response.status_code"
   ]
  },
  {
   "cell_type": "code",
   "execution_count": 7,
   "id": "23ebda65-50e5-4ebf-a77b-4c4c9a24c493",
   "metadata": {},
   "outputs": [
    {
     "name": "stdout",
     "output_type": "stream",
     "text": [
      "Works!\n"
     ]
    }
   ],
   "source": [
    "if response:\n",
    "    print(\"Works!\")"
   ]
  },
  {
   "cell_type": "code",
   "execution_count": 11,
   "id": "fa504ff0-ae53-4e4e-9d4d-f49d942b51fa",
   "metadata": {},
   "outputs": [
    {
     "name": "stdout",
     "output_type": "stream",
     "text": [
      "Connected successfully\n",
      "Error: <class 'requests.exceptions.HTTPError'>\n"
     ]
    }
   ],
   "source": [
    "from requests import HTTPError\n",
    "\n",
    "for url in [\"https://www.engineerspock.com\", \"https://www.engineerspock.com/not_existing\"]:\n",
    "    try:\n",
    "        response = requests.get(url)\n",
    "        response.raise_for_status()\n",
    "    except HTTPError:\n",
    "        print(f\"Error: {HTTPError}\")\n",
    "    except Exception:\n",
    "        print(f\"Unknown error: {Exception}\")\n",
    "    else:\n",
    "        print('Connected successfully')"
   ]
  },
  {
   "cell_type": "code",
   "execution_count": null,
   "id": "5427e24f-7b85-46ac-8553-1a9c870fe2da",
   "metadata": {},
   "outputs": [],
   "source": []
  }
 ],
 "metadata": {
  "kernelspec": {
   "display_name": "Python 3 (ipykernel)",
   "language": "python",
   "name": "python3"
  },
  "language_info": {
   "codemirror_mode": {
    "name": "ipython",
    "version": 3
   },
   "file_extension": ".py",
   "mimetype": "text/x-python",
   "name": "python",
   "nbconvert_exporter": "python",
   "pygments_lexer": "ipython3",
   "version": "3.10.9"
  }
 },
 "nbformat": 4,
 "nbformat_minor": 5
}
