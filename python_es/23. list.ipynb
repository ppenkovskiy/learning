{
 "cells": [
  {
   "cell_type": "code",
   "execution_count": 17,
   "id": "513d7005-f9f4-48ea-b4c8-4901f918859e",
   "metadata": {},
   "outputs": [],
   "source": [
    "int_list = [1, 2, 3]"
   ]
  },
  {
   "cell_type": "code",
   "execution_count": 18,
   "id": "6cf827a0-0a7b-4bdc-88c2-6062970d998e",
   "metadata": {},
   "outputs": [],
   "source": [
    "mixed_list = [1, 2.0, 'three']"
   ]
  },
  {
   "cell_type": "code",
   "execution_count": 19,
   "id": "706d66ba-908d-47f5-8dc9-c37af82a076e",
   "metadata": {},
   "outputs": [
    {
     "data": {
      "text/plain": [
       "3"
      ]
     },
     "execution_count": 19,
     "metadata": {},
     "output_type": "execute_result"
    }
   ],
   "source": [
    "len(int_list)"
   ]
  },
  {
   "cell_type": "code",
   "execution_count": 20,
   "id": "4091735f-3424-4a3a-8f8a-aeb5896f9f77",
   "metadata": {},
   "outputs": [
    {
     "name": "stdout",
     "output_type": "stream",
     "text": [
      "1\n",
      "3\n"
     ]
    }
   ],
   "source": [
    "print(int_list[0])\n",
    "print(int_list[-1])"
   ]
  },
  {
   "cell_type": "code",
   "execution_count": 21,
   "id": "65ded234-b066-417b-a643-1750b65c60a0",
   "metadata": {},
   "outputs": [
    {
     "name": "stdout",
     "output_type": "stream",
     "text": [
      "[2, 3]\n"
     ]
    }
   ],
   "source": [
    "print(int_list[1:])"
   ]
  },
  {
   "cell_type": "code",
   "execution_count": 22,
   "id": "b457f296-8225-40e1-9a2d-8c12963c3ccb",
   "metadata": {},
   "outputs": [
    {
     "name": "stdout",
     "output_type": "stream",
     "text": [
      "['John', 'Bob', 'Alice', 'John_2', 'Bob_2', 'Alice_2']\n"
     ]
    }
   ],
   "source": [
    "names_1 = ['John', 'Bob', 'Alice']\n",
    "names_2 = ['John_2', 'Bob_2', 'Alice_2']\n",
    "\n",
    "names_combined = names_1 + names_2\n",
    "print(names_combined)"
   ]
  },
  {
   "cell_type": "code",
   "execution_count": 23,
   "id": "57d77478-a206-4a8a-8b61-a76f503af15f",
   "metadata": {},
   "outputs": [
    {
     "name": "stdout",
     "output_type": "stream",
     "text": [
      "['John', 'Bob', 'Alice', 'William']\n",
      "['John_2', 'Bob_2', 'Alice_2', 'James']\n"
     ]
    }
   ],
   "source": [
    "names_1.append('William')\n",
    "names_2.append('James')\n",
    "print(names_1)\n",
    "print(names_2)"
   ]
  },
  {
   "cell_type": "code",
   "execution_count": 24,
   "id": "b050f672-d14b-4048-956c-f23daa163f81",
   "metadata": {},
   "outputs": [
    {
     "name": "stdout",
     "output_type": "stream",
     "text": [
      "William\n",
      "['John', 'Bob', 'Alice']\n"
     ]
    }
   ],
   "source": [
    "popped = names_1.pop() # remove the last element\n",
    "print(popped)\n",
    "print(names_1)"
   ]
  },
  {
   "cell_type": "code",
   "execution_count": 25,
   "id": "fdf07aa4-ff07-47e0-b637-fc469324526f",
   "metadata": {},
   "outputs": [
    {
     "name": "stdout",
     "output_type": "stream",
     "text": [
      "John\n",
      "['Bob', 'Alice']\n"
     ]
    }
   ],
   "source": [
    "popped = names_1.pop(0) # remove first element of the list\n",
    "print(popped)\n",
    "print(names_1)"
   ]
  },
  {
   "cell_type": "code",
   "execution_count": 26,
   "id": "1e42fb69-5092-4dd8-8cf7-1fa1c25178da",
   "metadata": {},
   "outputs": [
    {
     "data": {
      "text/plain": [
       "['Alice', 'Bob']"
      ]
     },
     "execution_count": 26,
     "metadata": {},
     "output_type": "execute_result"
    }
   ],
   "source": [
    "names_1.sort()\n",
    "names_1"
   ]
  },
  {
   "cell_type": "code",
   "execution_count": 27,
   "id": "1cfe2c74-f5f6-4c73-9cee-094e85d7ad54",
   "metadata": {},
   "outputs": [
    {
     "name": "stdout",
     "output_type": "stream",
     "text": [
      "['aa', 'ab', 'ac']\n"
     ]
    }
   ],
   "source": [
    "letters = ['ac', 'ab', 'aa']\n",
    "letters.sort()\n",
    "print(letters)"
   ]
  },
  {
   "cell_type": "code",
   "execution_count": 28,
   "id": "4af967cb-7f69-45d9-a841-79a3d2aa51ff",
   "metadata": {},
   "outputs": [
    {
     "name": "stdout",
     "output_type": "stream",
     "text": [
      "['a', 'ab', 'abc']\n"
     ]
    }
   ],
   "source": [
    "letters = ['abc', 'a', 'ab']\n",
    "letters.sort(key=len)\n",
    "print(letters)"
   ]
  },
  {
   "cell_type": "code",
   "execution_count": 29,
   "id": "db23652a-6514-41bb-bc96-58ebd85b22d7",
   "metadata": {},
   "outputs": [
    {
     "name": "stdout",
     "output_type": "stream",
     "text": [
      "[1, 1, 2, 2, 3, 3, 3, 3, 4, 4, 5, 5, 5, 7, 7, 8, 8, 8, 67]\n"
     ]
    }
   ],
   "source": [
    "numbers = [1,2,3,4,5,1,2,3,5,3,3,5,4,7,8,8,67,7,8]\n",
    "numbers.sort() #teamsort algorithm\n",
    "print(numbers)"
   ]
  },
  {
   "cell_type": "code",
   "execution_count": 30,
   "id": "f2bad6c1-75f6-481a-b8d3-e5d12f4a2852",
   "metadata": {},
   "outputs": [
    {
     "name": "stdout",
     "output_type": "stream",
     "text": [
      "[67, 8, 8, 8, 7, 7, 5, 5, 5, 4, 4, 3, 3, 3, 3, 2, 2, 1, 1]\n"
     ]
    }
   ],
   "source": [
    "numbers.reverse()\n",
    "print(numbers)"
   ]
  },
  {
   "cell_type": "code",
   "execution_count": 31,
   "id": "369c2e73-cc75-4f80-afcd-9bb98d271820",
   "metadata": {},
   "outputs": [
    {
     "name": "stdout",
     "output_type": "stream",
     "text": [
      "[67, 8, 8, 8, 7, 7, 5, 5, 5, 4, 4, 3, 3, 3, 3, 2, 2, 1, 1]\n"
     ]
    }
   ],
   "source": [
    "numbers.sort(reverse=True)\n",
    "print(numbers)"
   ]
  },
  {
   "cell_type": "code",
   "execution_count": 32,
   "id": "6bc66ee9-0f51-4873-a61e-0647db11daa0",
   "metadata": {},
   "outputs": [],
   "source": [
    "numbers.insert(1, 22)"
   ]
  },
  {
   "cell_type": "code",
   "execution_count": 33,
   "id": "e47c33ef-4be8-43c9-ab3f-856768a35932",
   "metadata": {},
   "outputs": [
    {
     "name": "stdout",
     "output_type": "stream",
     "text": [
      "[67, 22, 8, 8, 8, 7, 7, 5, 5, 5, 4, 4, 3, 3, 3, 3, 2, 2, 1, 1]\n"
     ]
    }
   ],
   "source": [
    "print(numbers)"
   ]
  },
  {
   "cell_type": "code",
   "execution_count": 39,
   "id": "262c2794-19cb-44a1-aa96-fbd365d71e5e",
   "metadata": {},
   "outputs": [
    {
     "data": {
      "text/plain": [
       "0"
      ]
     },
     "execution_count": 39,
     "metadata": {},
     "output_type": "execute_result"
    }
   ],
   "source": [
    "numbers.index(67)"
   ]
  },
  {
   "cell_type": "code",
   "execution_count": 40,
   "id": "060ccda8-4e03-4a74-b348-5152e32eef2e",
   "metadata": {},
   "outputs": [
    {
     "ename": "ValueError",
     "evalue": "42 is not in list",
     "output_type": "error",
     "traceback": [
      "\u001b[1;31m---------------------------------------------------------------------------\u001b[0m",
      "\u001b[1;31mValueError\u001b[0m                                Traceback (most recent call last)",
      "Cell \u001b[1;32mIn[40], line 1\u001b[0m\n\u001b[1;32m----> 1\u001b[0m \u001b[43mnumbers\u001b[49m\u001b[38;5;241;43m.\u001b[39;49m\u001b[43mindex\u001b[49m\u001b[43m(\u001b[49m\u001b[38;5;241;43m42\u001b[39;49m\u001b[43m)\u001b[49m\n",
      "\u001b[1;31mValueError\u001b[0m: 42 is not in list"
     ]
    }
   ],
   "source": [
    "numbers.index(42)"
   ]
  },
  {
   "cell_type": "code",
   "execution_count": 41,
   "id": "4232fb2b-101f-461f-b867-53630814fa63",
   "metadata": {},
   "outputs": [
    {
     "data": {
      "text/plain": [
       "3"
      ]
     },
     "execution_count": 41,
     "metadata": {},
     "output_type": "execute_result"
    }
   ],
   "source": [
    "numbers.count(5)"
   ]
  },
  {
   "cell_type": "code",
   "execution_count": 50,
   "id": "ba9ec51f-de77-43fe-994f-7083ef99f390",
   "metadata": {},
   "outputs": [
    {
     "name": "stdout",
     "output_type": "stream",
     "text": [
      "[67, 22, 8, 8, 8, 7, 7, 5, 5, 5, 4, 4, 3, 3, 3, 3, 2, 2, 1, 1, 'flag']\n",
      "[67, 22, 8, 8, 8, 7, 7, 5, 5, 5, 4, 4, 3, 3, 3, 3, 2, 2, 1, 1]\n"
     ]
    }
   ],
   "source": [
    "copy = numbers.copy() # shallow copy\n",
    "copy.append('flag')\n",
    "print(copy)\n",
    "print(numbers)"
   ]
  },
  {
   "cell_type": "code",
   "execution_count": 51,
   "id": "dfc4331b-0998-478c-a3a4-53aa22043e38",
   "metadata": {},
   "outputs": [
    {
     "data": {
      "text/plain": [
       "[]"
      ]
     },
     "execution_count": 51,
     "metadata": {},
     "output_type": "execute_result"
    }
   ],
   "source": [
    "numbers.clear()\n",
    "numbers"
   ]
  },
  {
   "cell_type": "code",
   "execution_count": null,
   "id": "e3cedfa8-bd46-4bf8-b477-0e6fbcb36eb8",
   "metadata": {},
   "outputs": [],
   "source": []
  }
 ],
 "metadata": {
  "kernelspec": {
   "display_name": "Python 3 (ipykernel)",
   "language": "python",
   "name": "python3"
  },
  "language_info": {
   "codemirror_mode": {
    "name": "ipython",
    "version": 3
   },
   "file_extension": ".py",
   "mimetype": "text/x-python",
   "name": "python",
   "nbconvert_exporter": "python",
   "pygments_lexer": "ipython3",
   "version": "3.10.9"
  }
 },
 "nbformat": 4,
 "nbformat_minor": 5
}
