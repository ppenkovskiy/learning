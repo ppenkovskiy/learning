{
 "cells": [
  {
   "cell_type": "code",
   "execution_count": 1,
   "id": "513d7005-f9f4-48ea-b4c8-4901f918859e",
   "metadata": {},
   "outputs": [],
   "source": [
    "int_list = [1, 2, 3]"
   ]
  },
  {
   "cell_type": "code",
   "execution_count": 2,
   "id": "6cf827a0-0a7b-4bdc-88c2-6062970d998e",
   "metadata": {},
   "outputs": [],
   "source": [
    "mixed_list = [1, 2.0, 'three']"
   ]
  },
  {
   "cell_type": "code",
   "execution_count": 4,
   "id": "706d66ba-908d-47f5-8dc9-c37af82a076e",
   "metadata": {},
   "outputs": [
    {
     "data": {
      "text/plain": [
       "3"
      ]
     },
     "execution_count": 4,
     "metadata": {},
     "output_type": "execute_result"
    }
   ],
   "source": [
    "len(int_list)"
   ]
  },
  {
   "cell_type": "code",
   "execution_count": null,
   "id": "4091735f-3424-4a3a-8f8a-aeb5896f9f77",
   "metadata": {},
   "outputs": [],
   "source": []
  }
 ],
 "metadata": {
  "kernelspec": {
   "display_name": "Python 3 (ipykernel)",
   "language": "python",
   "name": "python3"
  },
  "language_info": {
   "codemirror_mode": {
    "name": "ipython",
    "version": 3
   },
   "file_extension": ".py",
   "mimetype": "text/x-python",
   "name": "python",
   "nbconvert_exporter": "python",
   "pygments_lexer": "ipython3",
   "version": "3.10.9"
  }
 },
 "nbformat": 4,
 "nbformat_minor": 5
}
