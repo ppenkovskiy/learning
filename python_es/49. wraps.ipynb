{
 "cells": [
  {
   "cell_type": "code",
   "execution_count": 11,
   "id": "0e922373-e503-4418-be3f-31e5550a6d49",
   "metadata": {},
   "outputs": [],
   "source": [
    "def log_decorator(func):\n",
    "    def wrap():\n",
    "        print(f\"Calling func {func.__name__}.\")\n",
    "        func()\n",
    "        print(f\"End of func {func.__name__} execution.\")\n",
    "    return wrap"
   ]
  },
  {
   "cell_type": "code",
   "execution_count": 14,
   "id": "a831ee4a-c45e-46da-8b4a-5e38f6969955",
   "metadata": {},
   "outputs": [],
   "source": [
    "@log_decorator\n",
    "def hi():\n",
    "    print('Hi!')"
   ]
  },
  {
   "cell_type": "code",
   "execution_count": 15,
   "id": "fd1845b0-d911-443d-bd4c-37698ef8e69c",
   "metadata": {},
   "outputs": [
    {
     "name": "stdout",
     "output_type": "stream",
     "text": [
      "Calling func hi.\n",
      "Hi!\n",
      "End of func hi execution.\n"
     ]
    }
   ],
   "source": [
    "hi()"
   ]
  },
  {
   "cell_type": "code",
   "execution_count": 17,
   "id": "eebf8352-51f3-406a-8390-2501fddc4c2a",
   "metadata": {},
   "outputs": [
    {
     "name": "stdout",
     "output_type": "stream",
     "text": [
      "Help on function wrap in module __main__:\n",
      "\n",
      "wrap()\n",
      "\n"
     ]
    }
   ],
   "source": [
    "help(hi)"
   ]
  },
  {
   "cell_type": "code",
   "execution_count": 18,
   "id": "fe9e5b25-86ac-4546-851c-1dfc848d3aa2",
   "metadata": {},
   "outputs": [],
   "source": [
    "from functools import wraps"
   ]
  },
  {
   "cell_type": "code",
   "execution_count": 20,
   "id": "3bfd4943-51f9-497f-bc45-f9e29b99e341",
   "metadata": {},
   "outputs": [],
   "source": [
    "def log_decorator(func):\n",
    "    @wraps(func)\n",
    "    def wrap(*args, **kwargs):\n",
    "        print(f\"Calling func {func.__name__}.\")\n",
    "        func(*args, **kwargs)\n",
    "        print(f\"End of func {func.__name__} execution.\")\n",
    "    return wrap"
   ]
  },
  {
   "cell_type": "code",
   "execution_count": 21,
   "id": "2fc16683-4fea-4637-9ba8-2ba0360fb7e4",
   "metadata": {},
   "outputs": [],
   "source": [
    "@log_decorator\n",
    "def hi():\n",
    "    print('Hi!')"
   ]
  },
  {
   "cell_type": "code",
   "execution_count": 23,
   "id": "4195b16e-a65d-4310-a64c-8848ce8f06f5",
   "metadata": {},
   "outputs": [
    {
     "name": "stdout",
     "output_type": "stream",
     "text": [
      "Calling func hi.\n",
      "Hi!\n",
      "End of func hi execution.\n"
     ]
    }
   ],
   "source": [
    "hi()"
   ]
  },
  {
   "cell_type": "code",
   "execution_count": 24,
   "id": "3596d314-a479-4645-9b70-8f80d3ed0e81",
   "metadata": {},
   "outputs": [
    {
     "name": "stdout",
     "output_type": "stream",
     "text": [
      "Help on function hi in module __main__:\n",
      "\n",
      "hi()\n",
      "\n"
     ]
    }
   ],
   "source": [
    "help(hi)"
   ]
  }
 ],
 "metadata": {
  "kernelspec": {
   "display_name": "Python 3 (ipykernel)",
   "language": "python",
   "name": "python3"
  },
  "language_info": {
   "codemirror_mode": {
    "name": "ipython",
    "version": 3
   },
   "file_extension": ".py",
   "mimetype": "text/x-python",
   "name": "python",
   "nbconvert_exporter": "python",
   "pygments_lexer": "ipython3",
   "version": "3.10.9"
  }
 },
 "nbformat": 4,
 "nbformat_minor": 5
}
