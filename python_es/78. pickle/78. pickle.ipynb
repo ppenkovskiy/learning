{
 "cells": [
  {
   "cell_type": "code",
   "execution_count": 1,
   "id": "6d1801ae-22eb-4f99-9f18-373c279eb678",
   "metadata": {},
   "outputs": [],
   "source": [
    "class Character():\n",
    "    def __init__(self, race, damage = 10):\n",
    "        self.race = race\n",
    "        self.damage = damage\n",
    "        self.health = 100\n",
    "    def hit(self, damage):\n",
    "        self.health -= damage\n",
    "        \n",
    "    def is_dead(self):\n",
    "        return self.health <= 0"
   ]
  },
  {
   "cell_type": "code",
   "execution_count": 2,
   "id": "24c35993-300f-48a9-84dd-8db2e9eb159c",
   "metadata": {},
   "outputs": [
    {
     "data": {
      "text/plain": [
       "90"
      ]
     },
     "execution_count": 2,
     "metadata": {},
     "output_type": "execute_result"
    }
   ],
   "source": [
    "c = Character('Elf')\n",
    "c.hit(10)\n",
    "c.health"
   ]
  },
  {
   "cell_type": "code",
   "execution_count": null,
   "id": "a48cf24c-2cf8-49ff-9a3d-9454a65e745c",
   "metadata": {},
   "outputs": [],
   "source": [
    "import pickle\n",
    "\n",
    "with open(r\"C:\\tmp\\game_state.bin\", \"w+b\") as f:\n",
    "    pickle.d\n",
    "    "
   ]
  }
 ],
 "metadata": {
  "kernelspec": {
   "display_name": "Python 3 (ipykernel)",
   "language": "python",
   "name": "python3"
  },
  "language_info": {
   "codemirror_mode": {
    "name": "ipython",
    "version": 3
   },
   "file_extension": ".py",
   "mimetype": "text/x-python",
   "name": "python",
   "nbconvert_exporter": "python",
   "pygments_lexer": "ipython3",
   "version": "3.10.9"
  }
 },
 "nbformat": 4,
 "nbformat_minor": 5
}
