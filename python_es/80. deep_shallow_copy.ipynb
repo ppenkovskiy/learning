{
 "cells": [
  {
   "cell_type": "code",
   "execution_count": 1,
   "id": "4a4b4cdf-fa79-4b12-b02c-205831311486",
   "metadata": {},
   "outputs": [
    {
     "name": "stdout",
     "output_type": "stream",
     "text": [
      "[1, 2, 3, [4, 5, 6, 7]]\n",
      "[1, 2, 3, [4, 5, 6, 7]]\n"
     ]
    }
   ],
   "source": [
    "list1 = [1,2,3, [4,5,6]]\n",
    "copied_list = list1.copy()\n",
    "copied_list[3].append(7)\n",
    "print(list1)\n",
    "print(copied_list)"
   ]
  },
  {
   "cell_type": "code",
   "execution_count": 2,
   "id": "be6542d1-deaf-4bd4-821a-2db88bc23e9b",
   "metadata": {},
   "outputs": [],
   "source": [
    "list1.append(8)"
   ]
  },
  {
   "cell_type": "code",
   "execution_count": 3,
   "id": "28e97347-10f1-4ed3-8f7a-d48f4b9feec1",
   "metadata": {},
   "outputs": [
    {
     "name": "stdout",
     "output_type": "stream",
     "text": [
      "[1, 2, 3, [4, 5, 6, 7], 8]\n",
      "[1, 2, 3, [4, 5, 6, 7]]\n"
     ]
    }
   ],
   "source": [
    "print(list1)\n",
    "print(copied_list)"
   ]
  },
  {
   "cell_type": "code",
   "execution_count": 4,
   "id": "acc337be-21d6-44a4-bda7-73e16fd004e2",
   "metadata": {},
   "outputs": [],
   "source": [
    "import copy"
   ]
  },
  {
   "cell_type": "code",
   "execution_count": 5,
   "id": "314e49d3-3e5f-4545-aca0-0270ac952f00",
   "metadata": {},
   "outputs": [],
   "source": [
    "shallow_copy = copy.copy(list1)"
   ]
  },
  {
   "cell_type": "code",
   "execution_count": 6,
   "id": "5e7fd57e-94f0-4d9c-a33d-8009a8274f74",
   "metadata": {},
   "outputs": [
    {
     "name": "stdout",
     "output_type": "stream",
     "text": [
      "[1, 2, 3, [4, 5, 6, 7, 8], 8]\n",
      "[1, 2, 3, [4, 5, 6, 7, 8], 8]\n"
     ]
    }
   ],
   "source": [
    "shallow_copy[3].append(8)\n",
    "print(list1)\n",
    "print(shallow_copy)"
   ]
  },
  {
   "cell_type": "code",
   "execution_count": 7,
   "id": "821c1138-252d-412a-a19a-8caad97aae9e",
   "metadata": {},
   "outputs": [
    {
     "name": "stdout",
     "output_type": "stream",
     "text": [
      "[1, 2, 3, [4, 5, 6, 7, 8, 9], 8]\n",
      "[1, 2, 3, [4, 5, 6, 7, 8], 8]\n"
     ]
    }
   ],
   "source": [
    "deep_copy = copy.deepcopy(list1)\n",
    "deep_copy[3].append(9)\n",
    "print(deep_copy)\n",
    "print(list1)"
   ]
  },
  {
   "cell_type": "code",
   "execution_count": 9,
   "id": "94838344-ae0f-41ca-b966-4b58271fd5be",
   "metadata": {},
   "outputs": [],
   "source": [
    "class Point():\n",
    "    def __init__(self, x, y):\n",
    "        self.x = x\n",
    "        self.y = y\n",
    "        \n",
    "    def __repr__(self):\n",
    "        return f\"Point ({self.x}, {self.y})\""
   ]
  },
  {
   "cell_type": "code",
   "execution_count": 11,
   "id": "c9c1cef8-ec62-454a-add0-538e98d4c8c6",
   "metadata": {},
   "outputs": [],
   "source": [
    "a = Point(1, 2)\n",
    "b = copy.copy(a)"
   ]
  },
  {
   "cell_type": "code",
   "execution_count": 12,
   "id": "711b54fd-7014-4167-a578-6197696fcd34",
   "metadata": {},
   "outputs": [],
   "source": [
    "a.x = 3"
   ]
  },
  {
   "cell_type": "code",
   "execution_count": 13,
   "id": "aa8faa1a-40f2-4f59-bdd7-cb541ea7a457",
   "metadata": {},
   "outputs": [
    {
     "name": "stdout",
     "output_type": "stream",
     "text": [
      "Point (3, 2)\n",
      "Point (1, 2)\n"
     ]
    }
   ],
   "source": [
    "print(a)\n",
    "print(b)"
   ]
  }
 ],
 "metadata": {
  "kernelspec": {
   "display_name": "Python 3 (ipykernel)",
   "language": "python",
   "name": "python3"
  },
  "language_info": {
   "codemirror_mode": {
    "name": "ipython",
    "version": 3
   },
   "file_extension": ".py",
   "mimetype": "text/x-python",
   "name": "python",
   "nbconvert_exporter": "python",
   "pygments_lexer": "ipython3",
   "version": "3.10.9"
  }
 },
 "nbformat": 4,
 "nbformat_minor": 5
}
