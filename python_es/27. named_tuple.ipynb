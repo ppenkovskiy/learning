{
 "cells": [
  {
   "cell_type": "code",
   "execution_count": 1,
   "id": "fd1f8f1f-f374-49eb-b011-84a270e40cb5",
   "metadata": {},
   "outputs": [],
   "source": [
    "from collections import namedtuple"
   ]
  },
  {
   "cell_type": "code",
   "execution_count": 2,
   "id": "d5c81b5c-cff4-4b2e-b54e-c5fed01f9e04",
   "metadata": {},
   "outputs": [],
   "source": [
    "Player = namedtuple('Player', 'name age rating')"
   ]
  },
  {
   "cell_type": "code",
   "execution_count": 4,
   "id": "813fc208-59b2-43ac-b24f-9511d79faca9",
   "metadata": {},
   "outputs": [],
   "source": [
    "players = [Player('Pavel', 1993, 999), Player('Pavel_2', 1993, 1000)]"
   ]
  },
  {
   "cell_type": "code",
   "execution_count": 6,
   "id": "96cb261a-e598-49f9-90d7-1269b14a8cb1",
   "metadata": {},
   "outputs": [
    {
     "name": "stdout",
     "output_type": "stream",
     "text": [
      "Player(name='Pavel', age=1993, rating=999)\n",
      "Player(name='Pavel_2', age=1993, rating=1000)\n"
     ]
    }
   ],
   "source": [
    "print(players[0])\n",
    "print(players[1])"
   ]
  },
  {
   "cell_type": "code",
   "execution_count": 7,
   "id": "145feb22-bcd8-4ff8-85a6-11bd8121e7a5",
   "metadata": {},
   "outputs": [
    {
     "data": {
      "text/plain": [
       "'Pavel'"
      ]
     },
     "execution_count": 7,
     "metadata": {},
     "output_type": "execute_result"
    }
   ],
   "source": [
    "players[0].name"
   ]
  },
  {
   "cell_type": "code",
   "execution_count": 11,
   "id": "2d75c6f9-390d-4a06-8d25-341fa6b7dc9c",
   "metadata": {},
   "outputs": [
    {
     "name": "stdout",
     "output_type": "stream",
     "text": [
      "Pavel\n",
      "1993\n",
      "1500\n"
     ]
    }
   ],
   "source": [
    "p1 = Player('Pavel', 1993, 1500) \n",
    "print(p1.name)\n",
    "print(p1.age)\n",
    "print(p1.rating)"
   ]
  }
 ],
 "metadata": {
  "kernelspec": {
   "display_name": "Python 3 (ipykernel)",
   "language": "python",
   "name": "python3"
  },
  "language_info": {
   "codemirror_mode": {
    "name": "ipython",
    "version": 3
   },
   "file_extension": ".py",
   "mimetype": "text/x-python",
   "name": "python",
   "nbconvert_exporter": "python",
   "pygments_lexer": "ipython3",
   "version": "3.10.9"
  }
 },
 "nbformat": 4,
 "nbformat_minor": 5
}
