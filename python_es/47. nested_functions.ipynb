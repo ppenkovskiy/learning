{
 "cells": [
  {
   "cell_type": "code",
   "execution_count": 10,
   "id": "db0a0283-37d5-45d8-831c-7bc606d24b73",
   "metadata": {},
   "outputs": [],
   "source": [
    "greeting = 'Hi from global scope'\n",
    "\n",
    "def greet():\n",
    "    greeting = 'Hi from enclosing scope'\n",
    "    \n",
    "    def nested():\n",
    "        greeting = 'Hi from local scope'\n",
    "        print(greeting)\n",
    "        \n",
    "    nested() "
   ]
  },
  {
   "cell_type": "code",
   "execution_count": 12,
   "id": "01c7decc-76f2-4dce-bfc9-baa489de96d5",
   "metadata": {},
   "outputs": [
    {
     "name": "stdout",
     "output_type": "stream",
     "text": [
      "Hi from local scope\n",
      "Hi from global scope\n"
     ]
    }
   ],
   "source": [
    "greet()\n",
    "print(greeting)"
   ]
  },
  {
   "cell_type": "code",
   "execution_count": 32,
   "id": "6f80ab71-e0c0-4164-b851-e868f5ce2153",
   "metadata": {},
   "outputs": [],
   "source": [
    "greeting = 'Hello from the global scope'\n",
    "def greet():\n",
    "    global greeting\n",
    "    print(f\"Greet in func: {greeting}\")\n",
    "    \n",
    "    greeting = \"Hello from enclosing scope\"\n",
    "    \n",
    "    print(f\"Greet in func: {greeting}\")\n",
    "    \n",
    "    def nested():\n",
    "        greeting = 'Hello from local scope' \n",
    "        print(greeting)\n",
    "    nested()  "
   ]
  },
  {
   "cell_type": "code",
   "execution_count": 33,
   "id": "b4c9ef12-4fad-4245-9239-d82b95693e64",
   "metadata": {},
   "outputs": [
    {
     "name": "stdout",
     "output_type": "stream",
     "text": [
      "Greet in func: Hello from the global scope\n",
      "Greet in func: Hello from enclosing scope\n",
      "Hello from local scope\n",
      "Hello from enclosing scope\n"
     ]
    }
   ],
   "source": [
    "greet()\n",
    "print(greeting)"
   ]
  },
  {
   "cell_type": "code",
   "execution_count": null,
   "id": "a93c5103-6d75-48a1-a699-6abd18dcd2f0",
   "metadata": {},
   "outputs": [],
   "source": []
  }
 ],
 "metadata": {
  "kernelspec": {
   "display_name": "Python 3 (ipykernel)",
   "language": "python",
   "name": "python3"
  },
  "language_info": {
   "codemirror_mode": {
    "name": "ipython",
    "version": 3
   },
   "file_extension": ".py",
   "mimetype": "text/x-python",
   "name": "python",
   "nbconvert_exporter": "python",
   "pygments_lexer": "ipython3",
   "version": "3.10.9"
  }
 },
 "nbformat": 4,
 "nbformat_minor": 5
}
