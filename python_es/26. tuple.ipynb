{
 "cells": [
  {
   "cell_type": "code",
   "execution_count": 16,
   "id": "f022bee5-4bee-4496-be6a-ec7cb2de390f",
   "metadata": {},
   "outputs": [
    {
     "name": "stdout",
     "output_type": "stream",
     "text": [
      "<class 'tuple'>\n"
     ]
    }
   ],
   "source": [
    "strings = ('str1', 'str2', 'str3')\n",
    "print(type(strings))\n",
    "# strings[0] = 'str0' # 'tuple' object does not support item assignment, unlike \"lists\""
   ]
  },
  {
   "cell_type": "code",
   "execution_count": 17,
   "id": "087533fd-0bec-42c8-bb8d-e93df58fc000",
   "metadata": {},
   "outputs": [
    {
     "name": "stdout",
     "output_type": "stream",
     "text": [
      "3\n",
      "John\n",
      "Silver\n",
      "22\n"
     ]
    }
   ],
   "source": [
    "person = ('John', 'Silver', 22)\n",
    "print(len(person))\n",
    "for i in person:\n",
    "    print(i)"
   ]
  },
  {
   "cell_type": "code",
   "execution_count": 18,
   "id": "e0e20db1-2cce-4871-8ca6-5dba84b56079",
   "metadata": {},
   "outputs": [
    {
     "data": {
      "text/plain": [
       "0"
      ]
     },
     "execution_count": 18,
     "metadata": {},
     "output_type": "execute_result"
    }
   ],
   "source": [
    "person.index('John')"
   ]
  },
  {
   "cell_type": "code",
   "execution_count": 19,
   "id": "106b7440-2629-4b5c-879a-e087e0094b02",
   "metadata": {},
   "outputs": [
    {
     "data": {
      "text/plain": [
       "1"
      ]
     },
     "execution_count": 19,
     "metadata": {},
     "output_type": "execute_result"
    }
   ],
   "source": [
    "person.count('John')"
   ]
  }
 ],
 "metadata": {
  "kernelspec": {
   "display_name": "Python 3 (ipykernel)",
   "language": "python",
   "name": "python3"
  },
  "language_info": {
   "codemirror_mode": {
    "name": "ipython",
    "version": 3
   },
   "file_extension": ".py",
   "mimetype": "text/x-python",
   "name": "python",
   "nbconvert_exporter": "python",
   "pygments_lexer": "ipython3",
   "version": "3.10.9"
  }
 },
 "nbformat": 4,
 "nbformat_minor": 5
}
