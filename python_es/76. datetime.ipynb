{
 "cells": [
  {
   "cell_type": "code",
   "execution_count": 3,
   "id": "5837f412-9326-4d28-8672-36a79c8f9e41",
   "metadata": {},
   "outputs": [],
   "source": [
    "from datetime import datetime\n",
    "from datetime import date\n",
    "from datetime import time\n",
    "from datetime import timedelta"
   ]
  },
  {
   "cell_type": "code",
   "execution_count": 5,
   "id": "27052a97-626a-4bcd-a059-484bfd44fc11",
   "metadata": {},
   "outputs": [
    {
     "name": "stdout",
     "output_type": "stream",
     "text": [
      "2019-03-12\n",
      "2019\n",
      "3\n",
      "12\n"
     ]
    }
   ],
   "source": [
    "d1 = date(2019, 3, 12) # print year/date/time in universal format\n",
    "print(d1)\n",
    "print(d1.year)\n",
    "print(d1.month)\n",
    "print(d1.day)"
   ]
  },
  {
   "cell_type": "code",
   "execution_count": 6,
   "id": "65c19d51-16f9-4588-a36b-f9017a72f16f",
   "metadata": {},
   "outputs": [
    {
     "name": "stdout",
     "output_type": "stream",
     "text": [
      "23:10:59\n",
      "23\n",
      "10\n",
      "59\n"
     ]
    }
   ],
   "source": [
    "t1 = time(23, 10, 59)\n",
    "print(t1)\n",
    "print(t1.hour)\n",
    "print(t1.minute)\n",
    "print(t1.second)"
   ]
  },
  {
   "cell_type": "code",
   "execution_count": 7,
   "id": "d9645ff5-129d-4551-b42e-e12b521e24c1",
   "metadata": {},
   "outputs": [
    {
     "name": "stdout",
     "output_type": "stream",
     "text": [
      "2023-06-16\n"
     ]
    }
   ],
   "source": [
    "print(date.today())"
   ]
  },
  {
   "cell_type": "code",
   "execution_count": 10,
   "id": "3f4d9372-a895-4c0c-a2f8-340434a542e5",
   "metadata": {},
   "outputs": [
    {
     "name": "stdout",
     "output_type": "stream",
     "text": [
      "9999-12-31\n",
      "0001-01-01\n",
      "23:59:59.999999\n",
      "00:00:00\n"
     ]
    }
   ],
   "source": [
    "print(date.max)\n",
    "print(date.min)\n",
    "print(time.max)\n",
    "print(time.min)"
   ]
  },
  {
   "cell_type": "code",
   "execution_count": 11,
   "id": "a8e0fa84-3939-4c09-a3e3-9471a4261217",
   "metadata": {},
   "outputs": [],
   "source": [
    "dt = datetime(2019, 3, 12, 15, 10, 22)"
   ]
  },
  {
   "cell_type": "code",
   "execution_count": 12,
   "id": "1fc245f1-b8b1-4386-8551-3be2a5ed8eee",
   "metadata": {},
   "outputs": [
    {
     "name": "stdout",
     "output_type": "stream",
     "text": [
      "2019-03-12 15:10:22\n"
     ]
    }
   ],
   "source": [
    "print(dt)"
   ]
  },
  {
   "cell_type": "code",
   "execution_count": 13,
   "id": "3e210b9b-630e-4de4-ba76-989fc22e9d4b",
   "metadata": {},
   "outputs": [
    {
     "name": "stdout",
     "output_type": "stream",
     "text": [
      "2019\n",
      "15\n"
     ]
    }
   ],
   "source": [
    "print(dt.date().year)\n",
    "print(dt.time().hour)\n"
   ]
  },
  {
   "cell_type": "code",
   "execution_count": 14,
   "id": "371a2496-8ebb-49a5-8258-4987be5cce90",
   "metadata": {},
   "outputs": [
    {
     "name": "stdout",
     "output_type": "stream",
     "text": [
      "9999-12-31 23:59:59.999999\n",
      "0001-01-01 00:00:00\n"
     ]
    }
   ],
   "source": [
    "print(datetime.max)\n",
    "print(datetime.min)"
   ]
  },
  {
   "cell_type": "code",
   "execution_count": 19,
   "id": "e553cc07-3c7d-4dcf-9ed3-06f0b46607c9",
   "metadata": {},
   "outputs": [
    {
     "name": "stdout",
     "output_type": "stream",
     "text": [
      "2023-06-16 10:04:04.026279\n"
     ]
    }
   ],
   "source": [
    "now = datetime.now()\n",
    "print(now)"
   ]
  },
  {
   "cell_type": "code",
   "execution_count": 20,
   "id": "e6f07ac2-dc87-4412-b6a0-9a9de9a6437f",
   "metadata": {},
   "outputs": [
    {
     "name": "stdout",
     "output_type": "stream",
     "text": [
      "2023\n",
      "6\n"
     ]
    }
   ],
   "source": [
    "print(now.year)\n",
    "print(now.month)"
   ]
  },
  {
   "cell_type": "code",
   "execution_count": 22,
   "id": "19602360-6557-4a6f-97b3-28c8f694d198",
   "metadata": {},
   "outputs": [
    {
     "name": "stdout",
     "output_type": "stream",
     "text": [
      "2018-06-16 10:04:04.026279\n"
     ]
    }
   ],
   "source": [
    "new_dt = now.replace(year=2018)\n",
    "print(new_dt)"
   ]
  },
  {
   "cell_type": "code",
   "execution_count": 23,
   "id": "4f927435-d687-4881-889a-81a2fe69e95a",
   "metadata": {},
   "outputs": [
    {
     "name": "stdout",
     "output_type": "stream",
     "text": [
      "2023-06-16 10:04:04.026279\n"
     ]
    }
   ],
   "source": [
    "print(now)"
   ]
  },
  {
   "cell_type": "code",
   "execution_count": 25,
   "id": "370207d3-5ca6-4d0b-b050-5f10ae08ad04",
   "metadata": {},
   "outputs": [
    {
     "name": "stdout",
     "output_type": "stream",
     "text": [
      "2018-08-30 00:00:00\n"
     ]
    }
   ],
   "source": [
    "dt = datetime.strptime('30/08/2018', \"%d/%m/%Y\")\n",
    "print(dt)"
   ]
  },
  {
   "cell_type": "code",
   "execution_count": 29,
   "id": "98476ffa-6528-42a4-aeaa-00f1d19f9ddc",
   "metadata": {},
   "outputs": [
    {
     "name": "stdout",
     "output_type": "stream",
     "text": [
      "2018-03-29 10:40:00\n"
     ]
    }
   ],
   "source": [
    "dt = datetime.strptime('29/03/2018 10:40', \"%d/%m/%Y %H:%M\")\n",
    "print(dt)"
   ]
  },
  {
   "cell_type": "code",
   "execution_count": 32,
   "id": "d793be0d-0fef-4c16-9981-871c2bcca88c",
   "metadata": {},
   "outputs": [
    {
     "name": "stdout",
     "output_type": "stream",
     "text": [
      "2018-06-28 09:20:00\n"
     ]
    }
   ],
   "source": [
    "dt = datetime.strptime('06-28-2018 09:20', \"%m-%d-%Y %H:%M\")\n",
    "print(dt)"
   ]
  },
  {
   "cell_type": "code",
   "execution_count": 34,
   "id": "f6cda977-89a7-4820-8f41-d0cb183550aa",
   "metadata": {},
   "outputs": [
    {
     "name": "stdout",
     "output_type": "stream",
     "text": [
      "2018-06-28 00:00:00\n"
     ]
    }
   ],
   "source": [
    "dt = datetime.strptime(\"2018-06-28\", \"%Y-%m-%d\")\n",
    "print(dt)"
   ]
  },
  {
   "cell_type": "code",
   "execution_count": 35,
   "id": "fdd0ea6b-7c5f-4491-9f64-db8d6a86c7c2",
   "metadata": {},
   "outputs": [
    {
     "data": {
      "text/plain": [
       "'Russian_Belarus.1252'"
      ]
     },
     "execution_count": 35,
     "metadata": {},
     "output_type": "execute_result"
    }
   ],
   "source": [
    "import locale\n",
    "locale.setlocale(locale.LC_ALL, \"\")"
   ]
  },
  {
   "cell_type": "code",
   "execution_count": 52,
   "id": "f93b8acc-3581-4342-acbc-5db3d3b600cf",
   "metadata": {},
   "outputs": [
    {
     "name": "stdout",
     "output_type": "stream",
     "text": [
      "3 days, 2:10:00\n",
      "2 days, 1:05:00\n",
      "1 day, 1:05:00\n",
      "-2 days, 22:55:00\n"
     ]
    }
   ],
   "source": [
    "delta1 = timedelta(days=3, hours=2, minutes=10)\n",
    "print(delta1)\n",
    "delta2 = timedelta(days=2, hours=1, minutes=5)\n",
    "print(delta2)\n",
    "print(delta1 - delta2)\n",
    "print(delta2 - delta1)"
   ]
  },
  {
   "cell_type": "code",
   "execution_count": 71,
   "id": "ba624f06-4a2b-4936-921a-e2260dab0ffd",
   "metadata": {},
   "outputs": [
    {
     "name": "stdout",
     "output_type": "stream",
     "text": [
      "30\n"
     ]
    }
   ],
   "source": [
    "my_birthday = date(1993, 7, 10)\n",
    "my_age = date.today() - my_birthday\n",
    "print(round(my_age.days/365))"
   ]
  },
  {
   "cell_type": "code",
   "execution_count": 73,
   "id": "bd9179b4-9103-46ae-aef4-3d92d049aacb",
   "metadata": {},
   "outputs": [
    {
     "name": "stdout",
     "output_type": "stream",
     "text": [
      "False\n"
     ]
    }
   ],
   "source": [
    "wife_birthday = date(1990, 9, 6)\n",
    "\n",
    "am_i_older = my_birthday < wife_birthday\n",
    "print(am_i_older)"
   ]
  },
  {
   "cell_type": "code",
   "execution_count": null,
   "id": "0f3e8b80-c25b-440b-b639-b2957eb09d29",
   "metadata": {},
   "outputs": [],
   "source": []
  }
 ],
 "metadata": {
  "kernelspec": {
   "display_name": "Python 3 (ipykernel)",
   "language": "python",
   "name": "python3"
  },
  "language_info": {
   "codemirror_mode": {
    "name": "ipython",
    "version": 3
   },
   "file_extension": ".py",
   "mimetype": "text/x-python",
   "name": "python",
   "nbconvert_exporter": "python",
   "pygments_lexer": "ipython3",
   "version": "3.10.9"
  }
 },
 "nbformat": 4,
 "nbformat_minor": 5
}
