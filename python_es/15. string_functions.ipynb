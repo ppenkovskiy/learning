{
 "cells": [
  {
   "cell_type": "code",
   "execution_count": 51,
   "id": "bba73f81-0472-40fd-bd55-b001ad8b91c8",
   "metadata": {},
   "outputs": [],
   "source": [
    "x = 'Hi, my name is Pavel'"
   ]
  },
  {
   "cell_type": "code",
   "execution_count": 52,
   "id": "4ce493fa-6f58-4bcf-9acc-81fe6ad0cd48",
   "metadata": {},
   "outputs": [
    {
     "data": {
      "text/plain": [
       "20"
      ]
     },
     "execution_count": 52,
     "metadata": {},
     "output_type": "execute_result"
    }
   ],
   "source": [
    "len(x)"
   ]
  },
  {
   "cell_type": "code",
   "execution_count": 53,
   "id": "696dc7c9-79ba-4f16-918b-82c93f709289",
   "metadata": {},
   "outputs": [
    {
     "data": {
      "text/plain": [
       "'l'"
      ]
     },
     "execution_count": 53,
     "metadata": {},
     "output_type": "execute_result"
    }
   ],
   "source": [
    "x[len(x)-1]"
   ]
  },
  {
   "cell_type": "code",
   "execution_count": 54,
   "id": "c792eb46-a1e2-49b7-83d0-22099424bab8",
   "metadata": {},
   "outputs": [
    {
     "data": {
      "text/plain": [
       "1"
      ]
     },
     "execution_count": 54,
     "metadata": {},
     "output_type": "execute_result"
    }
   ],
   "source": [
    "x.count('P') # case sensitive"
   ]
  },
  {
   "cell_type": "code",
   "execution_count": 55,
   "id": "0426cc52-fd2e-40a3-a27a-ecb89d84ce4a",
   "metadata": {},
   "outputs": [
    {
     "data": {
      "text/plain": [
       "'Hi, my name is pavel'"
      ]
     },
     "execution_count": 55,
     "metadata": {},
     "output_type": "execute_result"
    }
   ],
   "source": [
    "x.capitalize() # does not change the original string"
   ]
  },
  {
   "cell_type": "code",
   "execution_count": 56,
   "id": "a05bb00a-908e-4b82-a504-c445e1b4ab0c",
   "metadata": {},
   "outputs": [
    {
     "name": "stdout",
     "output_type": "stream",
     "text": [
      "HI, MY NAME IS PAVEL\n"
     ]
    }
   ],
   "source": [
    "upper_cased = x.upper()  # does not change the original string\n",
    "print(upper_cased)"
   ]
  },
  {
   "cell_type": "code",
   "execution_count": 57,
   "id": "550ed274-14fa-4251-bf53-a0e4a51d08c9",
   "metadata": {},
   "outputs": [
    {
     "name": "stdout",
     "output_type": "stream",
     "text": [
      "hi, my name is pavel\n"
     ]
    }
   ],
   "source": [
    "lower_cased = x.lower() # does not change the original string\n",
    "print(lower_cased)"
   ]
  },
  {
   "cell_type": "code",
   "execution_count": 58,
   "id": "171c317d-d843-4ed6-9ba4-fa4cbf3d3b42",
   "metadata": {},
   "outputs": [
    {
     "name": "stdout",
     "output_type": "stream",
     "text": [
      "True\n",
      "True\n",
      "False\n",
      "False\n"
     ]
    }
   ],
   "source": [
    "print(upper_cased.isupper())\n",
    "print(lower_cased.islower())\n",
    "print(x.isupper())\n",
    "print(x.islower())"
   ]
  },
  {
   "cell_type": "code",
   "execution_count": 59,
   "id": "48419062-7595-41ed-a654-91c8bd8689c7",
   "metadata": {},
   "outputs": [
    {
     "name": "stdout",
     "output_type": "stream",
     "text": [
      "15\n",
      "-1\n",
      "-1\n"
     ]
    }
   ],
   "source": [
    "print(x.find('P')) # case sensitive\n",
    "print(x.find('p')) # if not found - returns -1\n",
    "print(x.find('P', 0, 3)) # 0, 3 - endexes where to search"
   ]
  },
  {
   "cell_type": "code",
   "execution_count": 60,
   "id": "9f0e875a-a431-4015-b166-d6b55635ae9e",
   "metadata": {},
   "outputs": [
    {
     "data": {
      "text/plain": [
       "True"
      ]
     },
     "execution_count": 60,
     "metadata": {},
     "output_type": "execute_result"
    }
   ],
   "source": [
    "'123abc'.isalnum()"
   ]
  },
  {
   "cell_type": "code",
   "execution_count": 61,
   "id": "661fc0e0-3252-49b4-bea7-c64df351f3c6",
   "metadata": {},
   "outputs": [
    {
     "data": {
      "text/plain": [
       "False"
      ]
     },
     "execution_count": 61,
     "metadata": {},
     "output_type": "execute_result"
    }
   ],
   "source": [
    "'123abc!'.isalnum()"
   ]
  },
  {
   "cell_type": "code",
   "execution_count": 62,
   "id": "d3671b8f-ffed-43e1-b9b7-647ef773b13a",
   "metadata": {},
   "outputs": [
    {
     "name": "stdout",
     "output_type": "stream",
     "text": [
      "False\n",
      "True\n"
     ]
    }
   ],
   "source": [
    "print('123abc'.isalpha())\n",
    "print('abc'.isalpha())"
   ]
  },
  {
   "cell_type": "code",
   "execution_count": 63,
   "id": "aa0012b1-c47b-4dd3-b4eb-f2b90ef56daa",
   "metadata": {},
   "outputs": [
    {
     "name": "stdout",
     "output_type": "stream",
     "text": [
      "True\n",
      "False\n"
     ]
    }
   ],
   "source": [
    "print('   '.isspace())\n",
    "print(''.isspace())"
   ]
  },
  {
   "cell_type": "code",
   "execution_count": 64,
   "id": "bfa60f30-0cfb-454e-adfd-0bbdbd11555a",
   "metadata": {},
   "outputs": [
    {
     "name": "stdout",
     "output_type": "stream",
     "text": [
      "True\n",
      "False\n"
     ]
    }
   ],
   "source": [
    "empty_string = \"\"\n",
    "print(empty_string == \"\")\n",
    "empty_string = \" \"\n",
    "print(empty_string == \"\")"
   ]
  },
  {
   "cell_type": "code",
   "execution_count": 65,
   "id": "0b9cea71-f522-46e0-8228-e2fe50b788fa",
   "metadata": {},
   "outputs": [
    {
     "data": {
      "text/plain": [
       "'123123'"
      ]
     },
     "execution_count": 65,
     "metadata": {},
     "output_type": "execute_result"
    }
   ],
   "source": [
    "x = \" 123123 \"\n",
    "x.strip(' ')"
   ]
  },
  {
   "cell_type": "code",
   "execution_count": 66,
   "id": "d724d52f-aa31-4b0a-86d7-c16a2a110450",
   "metadata": {},
   "outputs": [
    {
     "name": "stdout",
     "output_type": "stream",
     "text": [
      "True\n",
      "True\n"
     ]
    }
   ],
   "source": [
    "x = 'hello'\n",
    "print(x.startswith('he'))\n",
    "print(x.endswith('lo'))"
   ]
  },
  {
   "cell_type": "code",
   "execution_count": 67,
   "id": "d2ab8ed2-2bc2-40da-8bdf-39573191efe5",
   "metadata": {},
   "outputs": [
    {
     "data": {
      "text/plain": [
       "['h', 'llo']"
      ]
     },
     "execution_count": 67,
     "metadata": {},
     "output_type": "execute_result"
    }
   ],
   "source": [
    "x.split('e')"
   ]
  },
  {
   "cell_type": "code",
   "execution_count": 68,
   "id": "76189539-bc7e-484e-a977-3ad0f7d21d17",
   "metadata": {},
   "outputs": [
    {
     "name": "stdout",
     "output_type": "stream",
     "text": [
      "['1', '2', '3', '4', '5', '6', '7']\n"
     ]
    }
   ],
   "source": [
    "data = '1;2;3;4;5;6;7'\n",
    "print(data.split(';'))"
   ]
  }
 ],
 "metadata": {
  "kernelspec": {
   "display_name": "Python 3 (ipykernel)",
   "language": "python",
   "name": "python3"
  },
  "language_info": {
   "codemirror_mode": {
    "name": "ipython",
    "version": 3
   },
   "file_extension": ".py",
   "mimetype": "text/x-python",
   "name": "python",
   "nbconvert_exporter": "python",
   "pygments_lexer": "ipython3",
   "version": "3.10.9"
  }
 },
 "nbformat": 4,
 "nbformat_minor": 5
}
