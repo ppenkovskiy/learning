{
 "cells": [
  {
   "cell_type": "code",
   "execution_count": 29,
   "id": "587476de-cfa8-4e74-8d07-f03104aed5cf",
   "metadata": {},
   "outputs": [],
   "source": [
    "class Character():\n",
    "    MAX_SPEED = 100 \n",
    "    \n",
    "    \n",
    "    def __init__(self, race, damage):\n",
    "        self.damage = damage\n",
    "        self.__race = race # private attribute"
   ]
  },
  {
   "cell_type": "code",
   "execution_count": 30,
   "id": "9d62b8d3-0df5-447d-b260-a8b7a1b763cc",
   "metadata": {},
   "outputs": [
    {
     "data": {
      "text/plain": [
       "100"
      ]
     },
     "execution_count": 30,
     "metadata": {},
     "output_type": "execute_result"
    }
   ],
   "source": [
    "Character.MAX_SPEED"
   ]
  },
  {
   "cell_type": "code",
   "execution_count": 31,
   "id": "f60f41c6-5618-47c8-87fc-f3c7408a6204",
   "metadata": {},
   "outputs": [
    {
     "data": {
      "text/plain": [
       "10"
      ]
     },
     "execution_count": 31,
     "metadata": {},
     "output_type": "execute_result"
    }
   ],
   "source": [
    "Character.MAX_SPEED = 10\n",
    "Character.MAX_SPEED"
   ]
  },
  {
   "cell_type": "code",
   "execution_count": 39,
   "id": "628a628a-83e2-4356-9ac2-1c2fbec53ce9",
   "metadata": {},
   "outputs": [],
   "source": [
    "c = Character('Orc', 20)\n",
    "c._Character__race = 'Witcher'"
   ]
  },
  {
   "cell_type": "code",
   "execution_count": 40,
   "id": "7a6d7473-85ef-4e84-bd3e-7f565ec96da8",
   "metadata": {},
   "outputs": [
    {
     "name": "stdout",
     "output_type": "stream",
     "text": [
      "Witcher\n"
     ]
    }
   ],
   "source": [
    "print(c._Character__race)"
   ]
  }
 ],
 "metadata": {
  "kernelspec": {
   "display_name": "Python 3 (ipykernel)",
   "language": "python",
   "name": "python3"
  },
  "language_info": {
   "codemirror_mode": {
    "name": "ipython",
    "version": 3
   },
   "file_extension": ".py",
   "mimetype": "text/x-python",
   "name": "python",
   "nbconvert_exporter": "python",
   "pygments_lexer": "ipython3",
   "version": "3.10.9"
  }
 },
 "nbformat": 4,
 "nbformat_minor": 5
}
