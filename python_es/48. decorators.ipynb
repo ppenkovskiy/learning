{
 "cells": [
  {
   "cell_type": "code",
   "execution_count": 2,
   "id": "1ba4206e-171d-4d0f-a310-ac1ab79515ed",
   "metadata": {},
   "outputs": [
    {
     "name": "stdout",
     "output_type": "stream",
     "text": [
      "Hello, world!\n"
     ]
    }
   ],
   "source": [
    "def hello_world():\n",
    "    print('Hello, world!')\n",
    "hello_world()"
   ]
  },
  {
   "cell_type": "code",
   "execution_count": 3,
   "id": "f88ba136-3e05-490b-8fe7-ec51137062db",
   "metadata": {},
   "outputs": [
    {
     "data": {
      "text/plain": [
       "<function __main__.hello_world()>"
      ]
     },
     "execution_count": 3,
     "metadata": {},
     "output_type": "execute_result"
    }
   ],
   "source": [
    "hello2 = hello_world\n",
    "hello2"
   ]
  },
  {
   "cell_type": "code",
   "execution_count": 5,
   "id": "f06378bd-9791-4ced-9c37-f0256d3fcde6",
   "metadata": {},
   "outputs": [
    {
     "name": "stdout",
     "output_type": "stream",
     "text": [
      "Hello, world!\n"
     ]
    }
   ],
   "source": [
    "hello2()"
   ]
  },
  {
   "cell_type": "code",
   "execution_count": 7,
   "id": "672c7f7c-d389-4e45-a475-65704033a593",
   "metadata": {},
   "outputs": [],
   "source": [
    "def hello_world():\n",
    "    def internal():\n",
    "        print('Hi')\n",
    "    return internal"
   ]
  },
  {
   "cell_type": "code",
   "execution_count": 8,
   "id": "81598467-b706-4c8f-b22c-6e861d428608",
   "metadata": {},
   "outputs": [],
   "source": [
    "hello2 = hello_world()"
   ]
  },
  {
   "cell_type": "code",
   "execution_count": 10,
   "id": "93074385-010a-4f31-9395-b26cc61ae61b",
   "metadata": {},
   "outputs": [
    {
     "name": "stdout",
     "output_type": "stream",
     "text": [
      "Hi\n"
     ]
    }
   ],
   "source": [
    "hello2()"
   ]
  },
  {
   "cell_type": "code",
   "execution_count": 11,
   "id": "e9c8ca75-39bb-4f44-a8cf-e4db9c6324cc",
   "metadata": {},
   "outputs": [
    {
     "name": "stdout",
     "output_type": "stream",
     "text": [
      "Hi\n"
     ]
    }
   ],
   "source": [
    "def say_something(func):\n",
    "    func()\n",
    "\n",
    "def hello_world():\n",
    "    print('Hi')\n",
    "    \n",
    "say_something(hello_world)"
   ]
  },
  {
   "cell_type": "code",
   "execution_count": 12,
   "id": "e44cbe37-dabd-4d76-8040-616b0313adfb",
   "metadata": {},
   "outputs": [],
   "source": [
    "def log_decorator(func):\n",
    "    def wrap():\n",
    "        print(f\"Calling func {func}\")\n",
    "        func()\n",
    "        print(f\"Func {func} finished its work\")\n",
    "    return wrap"
   ]
  },
  {
   "cell_type": "code",
   "execution_count": 13,
   "id": "35a2558b-3635-4645-96d6-8beb5700f907",
   "metadata": {},
   "outputs": [],
   "source": [
    "def hello():\n",
    "    print('Hi')"
   ]
  },
  {
   "cell_type": "code",
   "execution_count": 17,
   "id": "a16e5322-c42f-4db4-80fc-127a11054e95",
   "metadata": {},
   "outputs": [
    {
     "name": "stdout",
     "output_type": "stream",
     "text": [
      "Calling func <function hello at 0x000002012A32A050>\n",
      "Hi\n",
      "Func <function hello at 0x000002012A32A050> finished its work\n"
     ]
    }
   ],
   "source": [
    "wrapped_by_logger = log_decorator(hello)\n",
    "wrapped_by_logger()"
   ]
  },
  {
   "cell_type": "code",
   "execution_count": 18,
   "id": "c70aadc0-937d-4cbf-9eb3-b9972018ace6",
   "metadata": {},
   "outputs": [],
   "source": [
    "@log_decorator\n",
    "def hello():\n",
    "    print('Hi')"
   ]
  },
  {
   "cell_type": "code",
   "execution_count": 20,
   "id": "39a6eb51-647e-4e3e-9cc7-639c047f8fad",
   "metadata": {},
   "outputs": [
    {
     "name": "stdout",
     "output_type": "stream",
     "text": [
      "Calling func <function hello at 0x000002012A32A290>\n",
      "Hi\n",
      "Func <function hello at 0x000002012A32A290> finished its work\n"
     ]
    }
   ],
   "source": [
    "hello()"
   ]
  },
  {
   "cell_type": "code",
   "execution_count": 21,
   "id": "7e354cc3-8b10-4d55-9130-05dca2ca4300",
   "metadata": {},
   "outputs": [],
   "source": [
    "from timeit import default_timer as timer\n",
    "import math\n",
    "import time"
   ]
  },
  {
   "cell_type": "code",
   "execution_count": 27,
   "id": "3494d2d4-0686-4a26-84f7-7e5366dcad74",
   "metadata": {},
   "outputs": [],
   "source": [
    "def measure_time(func):\n",
    "    def inner(*args, **kwargs):\n",
    "        start = timer()\n",
    "        func(*args, **kwargs)\n",
    "        end = timer()\n",
    "        print(f\"Function {func.__name__} took {end-start} for execution.\")\n",
    "    return inner"
   ]
  },
  {
   "cell_type": "code",
   "execution_count": 30,
   "id": "78cb72fe-6e6e-4ae4-a9a7-fff0e522e37b",
   "metadata": {},
   "outputs": [],
   "source": [
    "@measure_time\n",
    "def factorial(num):\n",
    "    time.sleep(1)\n",
    "    print(math.factorial(num))"
   ]
  },
  {
   "cell_type": "code",
   "execution_count": 32,
   "id": "5fbc7d8a-7351-4735-9dbb-fed53af0720a",
   "metadata": {},
   "outputs": [
    {
     "name": "stdout",
     "output_type": "stream",
     "text": [
      "3628800\n",
      "Function factorial took 1.0140696000307798 for execution.\n"
     ]
    }
   ],
   "source": [
    "factorial(10)"
   ]
  },
  {
   "cell_type": "code",
   "execution_count": null,
   "id": "d607587b-b3aa-4c02-9fd2-06e5edaf2e03",
   "metadata": {},
   "outputs": [],
   "source": []
  }
 ],
 "metadata": {
  "kernelspec": {
   "display_name": "Python 3 (ipykernel)",
   "language": "python",
   "name": "python3"
  },
  "language_info": {
   "codemirror_mode": {
    "name": "ipython",
    "version": 3
   },
   "file_extension": ".py",
   "mimetype": "text/x-python",
   "name": "python",
   "nbconvert_exporter": "python",
   "pygments_lexer": "ipython3",
   "version": "3.10.9"
  }
 },
 "nbformat": 4,
 "nbformat_minor": 5
}
