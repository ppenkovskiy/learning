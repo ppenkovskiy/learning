{
 "cells": [
  {
   "cell_type": "code",
   "execution_count": 5,
   "id": "b205a2ee-ee34-486f-982e-9523550dd7af",
   "metadata": {},
   "outputs": [],
   "source": [
    "class Vehicle:\n",
    "    def __init__(self, position):\n",
    "        self.position = position\n",
    "    \n",
    "    def travel(self, distination):\n",
    "        route = calculate_route(source=self.position, to=destination)\n",
    "        self.move_along(route)\n",
    "    \n",
    "    def calculate_route(self, source, to):\n",
    "        return 0\n",
    "    \n",
    "    def move_along(self, route):\n",
    "        print('Moving')\n",
    "        \n",
    "class Car(Vehicle):\n",
    "    pass\n",
    "\n",
    "class Airplane(Vehicle):\n",
    "    pass       "
   ]
  },
  {
   "cell_type": "code",
   "execution_count": 10,
   "id": "5ac51c6f-caa0-49b1-9bf8-1b60d60323ee",
   "metadata": {},
   "outputs": [],
   "source": [
    "class RadioMixin:\n",
    "    \n",
    "    def __init__(self):\n",
    "        self.radio = Radio()\n",
    "         \n",
    "    def turn_on(self, station):\n",
    "        self.radio.set_station(station)\n",
    "        self.radio.play()\n",
    "         \n",
    "class Radio:\n",
    "    def set_station(self, station):\n",
    "        self.station = station\n",
    "        \n",
    "    def play(self):\n",
    "        print(f\"Playing {self.station}\")\n",
    "        \n",
    "class Car(Vehicle, RadioMixin):\n",
    "    def __init__(self):\n",
    "        Vehicle.__init__(self, (10, 20))\n",
    "        RadioMixin.__init__(self)"
   ]
  },
  {
   "cell_type": "code",
   "execution_count": 9,
   "id": "b51b3af2-e76f-4932-98a2-a15fa4d6e6c1",
   "metadata": {},
   "outputs": [
    {
     "name": "stdout",
     "output_type": "stream",
     "text": [
      "Playing Moscow FM\n"
     ]
    }
   ],
   "source": [
    "car = Car()\n",
    "car.turn_on(\"Moscow FM\")"
   ]
  }
 ],
 "metadata": {
  "kernelspec": {
   "display_name": "Python 3 (ipykernel)",
   "language": "python",
   "name": "python3"
  },
  "language_info": {
   "codemirror_mode": {
    "name": "ipython",
    "version": 3
   },
   "file_extension": ".py",
   "mimetype": "text/x-python",
   "name": "python",
   "nbconvert_exporter": "python",
   "pygments_lexer": "ipython3",
   "version": "3.10.9"
  }
 },
 "nbformat": 4,
 "nbformat_minor": 5
}
