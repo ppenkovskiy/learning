{
 "cells": [
  {
   "cell_type": "code",
   "execution_count": 107,
   "id": "5b21a926-b638-44ad-bb6b-804d5c7588de",
   "metadata": {},
   "outputs": [],
   "source": [
    "class Shape():\n",
    "    def __init__(self):\n",
    "        print('Shape created')\n",
    "        \n",
    "    def draw(self):\n",
    "        # print('Drawing a shape')\n",
    "        raise NotImplementedError(\"Can't instantiate an abstract class.\")\n",
    "    \n",
    "    def area(self):\n",
    "        # print('Calc area')\n",
    "        raise NotImplementedError(\"Can't instantiate an abstract class.\")\n",
    "        \n",
    "    def perimeter(self):\n",
    "        # print('Calc perimeter')\n",
    "        raise NotImplementedError(\"Can't instantiate an abstract class.\")"
   ]
  },
  {
   "cell_type": "code",
   "execution_count": 108,
   "id": "e5e85748-8d2b-4089-b7d2-9700e78cb018",
   "metadata": {},
   "outputs": [
    {
     "name": "stdout",
     "output_type": "stream",
     "text": [
      "Shape created\n"
     ]
    }
   ],
   "source": [
    "shape = Shape()"
   ]
  },
  {
   "cell_type": "code",
   "execution_count": 112,
   "id": "679032e9-ee81-4970-ae05-aa0b887a2cd7",
   "metadata": {},
   "outputs": [],
   "source": [
    "class Rectangle(Shape):\n",
    "    def __init__(self, width, height):\n",
    "        # Shape.__init__(self)\n",
    "        self.width = width\n",
    "        self.height = height\n",
    "        print('Rectangle created')       \n",
    "        # Shape.area(self)\n",
    "        \n",
    "    def area(self):\n",
    "        return f\"Area of rectangle is {self.width*self.height}\"\n",
    "    \n",
    "    def perimeter(self):\n",
    "        return f\"Perimeter of rectangle is {2*(self.width+self.height)}\"\n",
    "    \n",
    "    def draw(self):\n",
    "        print(f'Drawing rectangle with sides: {self.width}, {self.height}.')"
   ]
  },
  {
   "cell_type": "code",
   "execution_count": 113,
   "id": "841e9995-ab29-469f-b89e-4678d03b454c",
   "metadata": {},
   "outputs": [
    {
     "name": "stdout",
     "output_type": "stream",
     "text": [
      "Rectangle created\n"
     ]
    }
   ],
   "source": [
    "rect = Rectangle(10, 20)"
   ]
  },
  {
   "cell_type": "code",
   "execution_count": 114,
   "id": "386a82e2-a139-45a9-b07c-59d231d09d93",
   "metadata": {},
   "outputs": [
    {
     "name": "stdout",
     "output_type": "stream",
     "text": [
      "10\n",
      "20\n",
      "Area of rectangle is 200\n",
      "Perimeter of rectangle is 60\n"
     ]
    }
   ],
   "source": [
    "print(rect.width)\n",
    "print(rect.height)\n",
    "print(rect.area())\n",
    "print(rect.perimeter())"
   ]
  },
  {
   "cell_type": "code",
   "execution_count": 115,
   "id": "b904b4f0-9ff3-466f-a056-11ef599f07ed",
   "metadata": {},
   "outputs": [
    {
     "name": "stdout",
     "output_type": "stream",
     "text": [
      "Drawing rectangle with sides: 10, 20.\n"
     ]
    }
   ],
   "source": [
    "rect.draw()"
   ]
  },
  {
   "cell_type": "code",
   "execution_count": 116,
   "id": "38db1331-3719-4fa3-804e-e67d4ed7d5ba",
   "metadata": {},
   "outputs": [],
   "source": [
    "import math\n",
    "class Triangle(Shape):\n",
    "    def __init__(self, a, b, c):\n",
    "        # Shape.__init__(self)\n",
    "        \n",
    "        self.a = a\n",
    "        self.b = b\n",
    "        self.c = c\n",
    "        \n",
    "        print('Triangle created')\n",
    "        \n",
    "    def draw(self):\n",
    "        print(f'Drawing triangle with sides: {self.a}, {self.b}, {self.c}.')\n",
    "        \n",
    "    def area(self):\n",
    "        s = (self.a+self.b+self.c)/2\n",
    "        return math.sqrt(s*(s-self.a)*(s-self.b)*(s-self.c))\n",
    "    \n",
    "    def perimeter(self):\n",
    "        return self.a + self.b + self.c"
   ]
  },
  {
   "cell_type": "code",
   "execution_count": 117,
   "id": "e8b0f787-9e97-4360-a8bf-ba7b4d9789de",
   "metadata": {},
   "outputs": [
    {
     "name": "stdout",
     "output_type": "stream",
     "text": [
      "Triangle created\n"
     ]
    }
   ],
   "source": [
    "triangle = Triangle(10, 10, 10)"
   ]
  },
  {
   "cell_type": "code",
   "execution_count": 118,
   "id": "91805124-59ea-4ab7-a9c5-87d584ab9881",
   "metadata": {},
   "outputs": [
    {
     "name": "stdout",
     "output_type": "stream",
     "text": [
      "Drawing triangle with sides: 10, 10, 10.\n"
     ]
    }
   ],
   "source": [
    "triangle.draw()"
   ]
  },
  {
   "cell_type": "code",
   "execution_count": 119,
   "id": "b68153b4-485f-4a48-9f54-02fb0f2d0fa3",
   "metadata": {},
   "outputs": [
    {
     "name": "stdout",
     "output_type": "stream",
     "text": [
      "Drawing rectangle with sides: 10, 20.\n",
      "Drawing triangle with sides: 10, 10, 10.\n"
     ]
    }
   ],
   "source": [
    "for shape in [rect, triangle]: # example of polymorphism\n",
    "    shape.draw()"
   ]
  },
  {
   "cell_type": "code",
   "execution_count": null,
   "id": "0ebf2a56-28ee-4b0c-8b91-0f7d41481f57",
   "metadata": {},
   "outputs": [],
   "source": []
  }
 ],
 "metadata": {
  "kernelspec": {
   "display_name": "Python 3 (ipykernel)",
   "language": "python",
   "name": "python3"
  },
  "language_info": {
   "codemirror_mode": {
    "name": "ipython",
    "version": 3
   },
   "file_extension": ".py",
   "mimetype": "text/x-python",
   "name": "python",
   "nbconvert_exporter": "python",
   "pygments_lexer": "ipython3",
   "version": "3.10.9"
  }
 },
 "nbformat": 4,
 "nbformat_minor": 5
}
