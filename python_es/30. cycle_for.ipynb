{
 "cells": [
  {
   "cell_type": "code",
   "execution_count": 3,
   "id": "1abb7b4a-24e0-424f-b1e2-edbf78d319d6",
   "metadata": {},
   "outputs": [
    {
     "name": "stdout",
     "output_type": "stream",
     "text": [
      "[1, 2, 3, 4, 5]\n"
     ]
    }
   ],
   "source": [
    "numbers = [1, 2, 3, 4, 5]\n",
    "print(numbers)"
   ]
  },
  {
   "cell_type": "code",
   "execution_count": 4,
   "id": "93246683-ef60-4015-b4d3-46fe6c135cd4",
   "metadata": {},
   "outputs": [
    {
     "name": "stdout",
     "output_type": "stream",
     "text": [
      "1\n",
      "2\n",
      "3\n",
      "4\n",
      "5\n"
     ]
    }
   ],
   "source": [
    "for i in numbers:\n",
    "    print(i)"
   ]
  },
  {
   "cell_type": "code",
   "execution_count": 6,
   "id": "78bf7b6e-89e1-44a9-916d-20a11e874350",
   "metadata": {},
   "outputs": [
    {
     "name": "stdout",
     "output_type": "stream",
     "text": [
      "1\n",
      "4\n",
      "9\n",
      "16\n",
      "25\n"
     ]
    }
   ],
   "source": [
    "for i in numbers:\n",
    "    print(i**2)"
   ]
  },
  {
   "cell_type": "code",
   "execution_count": 8,
   "id": "89d9bff1-0e7a-45a6-a77b-f77a81d5ce9f",
   "metadata": {},
   "outputs": [
    {
     "name": "stdout",
     "output_type": "stream",
     "text": [
      "range(1, 6)\n",
      "<class 'range'>\n",
      "1\n",
      "2\n",
      "3\n",
      "4\n",
      "5\n"
     ]
    }
   ],
   "source": [
    "numbers = range(1,6)\n",
    "print(numbers)\n",
    "print(type(numbers))\n",
    "for i in numbers:\n",
    "    print(i)"
   ]
  },
  {
   "cell_type": "code",
   "execution_count": 9,
   "id": "0da6a5e7-3bb4-400d-a7d2-209d4ec0248e",
   "metadata": {},
   "outputs": [
    {
     "name": "stdout",
     "output_type": "stream",
     "text": [
      "1\n",
      "2\n",
      "3\n",
      "4\n",
      "5\n"
     ]
    }
   ],
   "source": [
    "for i in range(1, 6):\n",
    "    print(i)"
   ]
  },
  {
   "cell_type": "code",
   "execution_count": 15,
   "id": "4ea5af75-922b-4981-a5f4-4d3eca597f53",
   "metadata": {},
   "outputs": [
    {
     "name": "stdout",
     "output_type": "stream",
     "text": [
      "1 is odd\n",
      "2 is even\n",
      "3 is odd\n",
      "4 is even\n",
      "5 is odd\n"
     ]
    }
   ],
   "source": [
    "for i in range(1, 6):\n",
    "    if i%2 == 0:\n",
    "        print(f'{i} is even')\n",
    "    else:\n",
    "        print(f'{i} is odd')"
   ]
  },
  {
   "cell_type": "code",
   "execution_count": 18,
   "id": "188947b9-aece-4211-90d7-2042859b5adc",
   "metadata": {},
   "outputs": [
    {
     "name": "stdout",
     "output_type": "stream",
     "text": [
      "[2, 4, 6, 8, 10]\n"
     ]
    }
   ],
   "source": [
    "numbers = [1,2,3,4,5]\n",
    "for i, item in enumerate(numbers):\n",
    "    numbers[i] *= 2\n",
    "print(numbers)"
   ]
  },
  {
   "cell_type": "code",
   "execution_count": 20,
   "id": "820ef824-d104-4276-ad03-28b963c97bf5",
   "metadata": {},
   "outputs": [
    {
     "name": "stdout",
     "output_type": "stream",
     "text": [
      "[2, 4, 6, 8, 10]\n"
     ]
    }
   ],
   "source": [
    "numbers = [1,2,3,4,5]\n",
    "for i in range(len(numbers)):\n",
    "    numbers[i] *= 2\n",
    "print(numbers)"
   ]
  },
  {
   "cell_type": "code",
   "execution_count": 23,
   "id": "72822889-cf40-4786-be26-0d5432af7557",
   "metadata": {},
   "outputs": [
    {
     "name": "stdout",
     "output_type": "stream",
     "text": [
      "P\n",
      "a\n",
      "v\n",
      "e\n",
      "l\n"
     ]
    }
   ],
   "source": [
    "name = 'Pavel'\n",
    "for l in name:\n",
    "    print(l)"
   ]
  },
  {
   "cell_type": "code",
   "execution_count": 24,
   "id": "3512a8ba-8f58-42a7-a194-d7cd73f88f2f",
   "metadata": {},
   "outputs": [
    {
     "name": "stdout",
     "output_type": "stream",
     "text": [
      "Message\n",
      "Message\n",
      "Message\n",
      "Message\n",
      "Message\n"
     ]
    }
   ],
   "source": [
    "for _ in range(5):\n",
    "    print('Message')"
   ]
  },
  {
   "cell_type": "code",
   "execution_count": 25,
   "id": "882e8431-c535-4148-a347-7c8f3158f67f",
   "metadata": {},
   "outputs": [],
   "source": [
    "person = ('John', 'Silver', 22)"
   ]
  },
  {
   "cell_type": "code",
   "execution_count": 26,
   "id": "f1935e9e-29ca-4a66-ae87-6114bed32d32",
   "metadata": {},
   "outputs": [
    {
     "name": "stdout",
     "output_type": "stream",
     "text": [
      "John\n",
      "Silver\n",
      "22\n"
     ]
    }
   ],
   "source": [
    "for item in person:\n",
    "    print(item)"
   ]
  },
  {
   "cell_type": "code",
   "execution_count": 37,
   "id": "e6528dc1-31b1-4524-b0aa-8b3054388f75",
   "metadata": {},
   "outputs": [
    {
     "name": "stdout",
     "output_type": "stream",
     "text": [
      "3\n",
      "Pavel_1\n",
      "\n",
      "Pavel_1 30\n",
      "Pavel_2 32\n",
      "Pavel_3 33\n"
     ]
    }
   ],
   "source": [
    "persons = [('Pavel_1', 30), ('Pavel_2', 32), ('Pavel_3', 33)]\n",
    "print(len(persons))\n",
    "print(persons[0][0])\n",
    "print()\n",
    "for (name, age) in persons:\n",
    "    print(name, age)"
   ]
  },
  {
   "cell_type": "code",
   "execution_count": 40,
   "id": "8202fa18-9267-4c52-bdbb-29430a1790cd",
   "metadata": {},
   "outputs": [
    {
     "name": "stdout",
     "output_type": "stream",
     "text": [
      "Pavel_1 is 30 years old\n",
      "Pavel_2 is 32 years old\n",
      "Pavel_3 is 33 years old\n"
     ]
    }
   ],
   "source": [
    "persons = [('Pavel_1', 30), ('Pavel_2', 32), ('Pavel_3', 33)]\n",
    "for (name, age) in persons:\n",
    "    print(f\"{name} is {age} years old\")"
   ]
  },
  {
   "cell_type": "code",
   "execution_count": 42,
   "id": "a3881621-1ead-4d3b-86c2-6d4c23d66138",
   "metadata": {},
   "outputs": [
    {
     "name": "stdout",
     "output_type": "stream",
     "text": [
      "1\n",
      "2\n",
      "3\n",
      "4\n",
      "5\n"
     ]
    }
   ],
   "source": [
    "players = {\n",
    "    '1': 1,\n",
    "    '2': 2,\n",
    "    '3': 3,\n",
    "    '4': 4,\n",
    "    '5': 5,\n",
    "}\n",
    "\n",
    "for item in players:\n",
    "    print(item)"
   ]
  },
  {
   "cell_type": "code",
   "execution_count": 43,
   "id": "c46755d5-376d-4a99-bcff-0a416e56a5df",
   "metadata": {},
   "outputs": [
    {
     "name": "stdout",
     "output_type": "stream",
     "text": [
      "('1', 1)\n",
      "('2', 2)\n",
      "('3', 3)\n",
      "('4', 4)\n",
      "('5', 5)\n"
     ]
    }
   ],
   "source": [
    "for item in players.items():\n",
    "    print(item)"
   ]
  },
  {
   "cell_type": "code",
   "execution_count": 47,
   "id": "f2329681-1f9a-4ea3-9708-f44ce9f04f37",
   "metadata": {},
   "outputs": [
    {
     "name": "stdout",
     "output_type": "stream",
     "text": [
      "key=1, value=1\n",
      "key=2, value=2\n",
      "key=3, value=3\n",
      "key=4, value=4\n",
      "key=5, value=5\n"
     ]
    }
   ],
   "source": [
    "for k, v in players.items():\n",
    "    print(f\"key={k}, value={v}\")"
   ]
  },
  {
   "cell_type": "code",
   "execution_count": 49,
   "id": "7326198f-5770-4e23-a137-eac60c8c6de6",
   "metadata": {},
   "outputs": [
    {
     "name": "stdout",
     "output_type": "stream",
     "text": [
      "value=5\n",
      "value=5\n",
      "value=5\n",
      "value=5\n",
      "value=5\n"
     ]
    }
   ],
   "source": [
    "for value in players.values():\n",
    "    print(f\"value={v}\")"
   ]
  },
  {
   "cell_type": "code",
   "execution_count": 50,
   "id": "10e81eee-a4de-48d8-a170-459145bea96b",
   "metadata": {},
   "outputs": [],
   "source": [
    "# find all pairs sum of which equals 0"
   ]
  },
  {
   "cell_type": "code",
   "execution_count": 56,
   "id": "36be357f-a704-4d7a-9f47-1df2346814ee",
   "metadata": {},
   "outputs": [
    {
     "name": "stdout",
     "output_type": "stream",
     "text": [
      "[(-1, 1), (-5, 5), (-2, 2), (-3, 3)]\n"
     ]
    }
   ],
   "source": [
    "list_1 = [-1, 1, -5, 5, 1, 2, 3, -1, -2, -3]\n",
    "list_2 = [1, 2, 3, 4, 5, 5, 6]\n",
    "\n",
    "pairs = []\n",
    "for x in list_1:\n",
    "    for y in list_2:\n",
    "        if x+y == 0:\n",
    "            if (x, y) not in pairs:\n",
    "                pairs.append((x, y))\n",
    "print(pairs)"
   ]
  }
 ],
 "metadata": {
  "kernelspec": {
   "display_name": "Python 3 (ipykernel)",
   "language": "python",
   "name": "python3"
  },
  "language_info": {
   "codemirror_mode": {
    "name": "ipython",
    "version": 3
   },
   "file_extension": ".py",
   "mimetype": "text/x-python",
   "name": "python",
   "nbconvert_exporter": "python",
   "pygments_lexer": "ipython3",
   "version": "3.10.9"
  }
 },
 "nbformat": 4,
 "nbformat_minor": 5
}
