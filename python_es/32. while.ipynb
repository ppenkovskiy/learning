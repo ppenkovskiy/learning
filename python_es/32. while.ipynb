{
 "cells": [
  {
   "cell_type": "code",
   "execution_count": 2,
   "id": "eb015fa3-9dc9-470b-b465-6f1ead6277f4",
   "metadata": {},
   "outputs": [
    {
     "name": "stdout",
     "output_type": "stream",
     "text": [
      "x equals 0\n",
      "x equals 1\n",
      "x equals 2\n",
      "Condition is not met\n"
     ]
    }
   ],
   "source": [
    "x = 0\n",
    "while x < 3:\n",
    "    print(f\"x equals {x}\")\n",
    "    x += 1\n",
    "else:\n",
    "    print('Condition is not met')"
   ]
  },
  {
   "cell_type": "code",
   "execution_count": 7,
   "id": "fc819b9a-24ed-4f21-b052-bb1ec774f8a9",
   "metadata": {},
   "outputs": [
    {
     "name": "stdout",
     "output_type": "stream",
     "text": [
      "16\n"
     ]
    }
   ],
   "source": [
    "vals = [1,2,3,4,5,6,7,8,9,10]\n",
    "sum = 0\n",
    "for v in vals:\n",
    "    if v % 2 == 0:\n",
    "        continue\n",
    "    else:\n",
    "        sum += v\n",
    "    if sum > 10:\n",
    "        break\n",
    "print(sum)"
   ]
  },
  {
   "cell_type": "code",
   "execution_count": 8,
   "id": "5c020310-29bf-4c2a-9dab-05b1f2e9f332",
   "metadata": {},
   "outputs": [],
   "source": [
    "for v in vals:\n",
    "    pass"
   ]
  }
 ],
 "metadata": {
  "kernelspec": {
   "display_name": "Python 3 (ipykernel)",
   "language": "python",
   "name": "python3"
  },
  "language_info": {
   "codemirror_mode": {
    "name": "ipython",
    "version": 3
   },
   "file_extension": ".py",
   "mimetype": "text/x-python",
   "name": "python",
   "nbconvert_exporter": "python",
   "pygments_lexer": "ipython3",
   "version": "3.10.9"
  }
 },
 "nbformat": 4,
 "nbformat_minor": 5
}
