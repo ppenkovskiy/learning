{
 "cells": [
  {
   "cell_type": "code",
   "execution_count": 1,
   "id": "6406cb69-ee2d-4943-a6ef-f2cb79a4c9cf",
   "metadata": {},
   "outputs": [],
   "source": [
    "def greeting():\n",
    "    '''\n",
    "    DOCSTRING: Information about the function\n",
    "    INPUT: No\n",
    "    OUTPUT: Hello\n",
    "    '''\n",
    "    print('Hello')"
   ]
  },
  {
   "cell_type": "code",
   "execution_count": 2,
   "id": "769df96c-46d2-4e07-aba2-a2608ebc188f",
   "metadata": {},
   "outputs": [
    {
     "name": "stdout",
     "output_type": "stream",
     "text": [
      "Hello\n"
     ]
    }
   ],
   "source": [
    "greeting()"
   ]
  },
  {
   "cell_type": "code",
   "execution_count": 3,
   "id": "06cc0330-ddc9-46d4-a34d-28d468de1322",
   "metadata": {},
   "outputs": [
    {
     "data": {
      "text/plain": [
       "<function __main__.greeting()>"
      ]
     },
     "execution_count": 3,
     "metadata": {},
     "output_type": "execute_result"
    }
   ],
   "source": [
    "greeting"
   ]
  },
  {
   "cell_type": "code",
   "execution_count": 4,
   "id": "b08e8d7d-859d-4992-8a98-5ccf046da12c",
   "metadata": {},
   "outputs": [
    {
     "name": "stdout",
     "output_type": "stream",
     "text": [
      "Help on function greeting in module __main__:\n",
      "\n",
      "greeting()\n",
      "    DOCSTRING: Information about the function\n",
      "    INPUT: No\n",
      "    OUTPUT: Hello\n",
      "\n"
     ]
    }
   ],
   "source": [
    "help(greeting)"
   ]
  },
  {
   "cell_type": "code",
   "execution_count": 5,
   "id": "4683a999-8e9e-4088-afdb-6144f927277c",
   "metadata": {},
   "outputs": [],
   "source": [
    "def print_name(name='default_name'):\n",
    "    return name"
   ]
  },
  {
   "cell_type": "code",
   "execution_count": 6,
   "id": "a8df0c4c-e019-41ed-be1f-996ef66bfa96",
   "metadata": {},
   "outputs": [
    {
     "data": {
      "text/plain": [
       "'Pavel'"
      ]
     },
     "execution_count": 6,
     "metadata": {},
     "output_type": "execute_result"
    }
   ],
   "source": [
    "print_name('Pavel')"
   ]
  },
  {
   "cell_type": "code",
   "execution_count": 7,
   "id": "4846bd52-f403-4a70-acc6-6463fdd0c4c5",
   "metadata": {},
   "outputs": [
    {
     "name": "stdout",
     "output_type": "stream",
     "text": [
      "default_name\n",
      "<class 'str'>\n"
     ]
    }
   ],
   "source": [
    "result = print_name()\n",
    "print(result)\n",
    "print(type(result))"
   ]
  },
  {
   "cell_type": "code",
   "execution_count": 8,
   "id": "7038e12d-29bd-464a-b96b-09c0364a9424",
   "metadata": {},
   "outputs": [
    {
     "name": "stdout",
     "output_type": "stream",
     "text": [
      "Hello Pavlo\n"
     ]
    }
   ],
   "source": [
    "def greeting(name):\n",
    "    return 'Hello ' + name\n",
    "print(greeting('Pavlo'))"
   ]
  },
  {
   "cell_type": "code",
   "execution_count": 9,
   "id": "9bc6d04f-a5ee-4a2c-b27f-7d029bae319a",
   "metadata": {},
   "outputs": [
    {
     "data": {
      "text/plain": [
       "12"
      ]
     },
     "execution_count": 9,
     "metadata": {},
     "output_type": "execute_result"
    }
   ],
   "source": [
    "def get_sum(a, b):\n",
    "    return a + b\n",
    "result = get_sum(10, 2)\n",
    "result"
   ]
  },
  {
   "cell_type": "code",
   "execution_count": 10,
   "id": "acdc4026-9085-4e6f-819a-d56cfb3f494f",
   "metadata": {},
   "outputs": [],
   "source": [
    "def is_adult(age):\n",
    "    return age >= 18"
   ]
  },
  {
   "cell_type": "code",
   "execution_count": 11,
   "id": "211a5120-8fc1-4dbe-bada-6ca5cdb2917a",
   "metadata": {},
   "outputs": [
    {
     "name": "stdout",
     "output_type": "stream",
     "text": [
      "True\n"
     ]
    }
   ],
   "source": [
    "print(is_adult(20))"
   ]
  },
  {
   "cell_type": "code",
   "execution_count": 12,
   "id": "72995364-1cdc-423b-a7bd-96f4ac0667af",
   "metadata": {},
   "outputs": [
    {
     "name": "stdout",
     "output_type": "stream",
     "text": [
      "True\n",
      "False\n"
     ]
    }
   ],
   "source": [
    "def is_palindrome(text):\n",
    "    return text == text[::-1]\n",
    "print(is_palindrome('abba'))\n",
    "print(is_palindrome('abaa'))"
   ]
  },
  {
   "cell_type": "code",
   "execution_count": 13,
   "id": "0cd7628d-c64b-4fd1-870e-c265467d441e",
   "metadata": {},
   "outputs": [
    {
     "name": "stdout",
     "output_type": "stream",
     "text": [
      "0.36\n"
     ]
    }
   ],
   "source": [
    "def calc_taxes(p1, p2, p3):\n",
    "    return sum((p1, p2, p3)) * 0.06\n",
    "print(calc_taxes(1,2,3))"
   ]
  },
  {
   "cell_type": "code",
   "execution_count": 14,
   "id": "27a5409f-75e8-452f-8a76-2b5b32f7bcdb",
   "metadata": {},
   "outputs": [
    {
     "name": "stdout",
     "output_type": "stream",
     "text": [
      "Got payment = 1\n",
      "Got payment = 2\n",
      "Got payment = 3\n",
      "Got payment = 4\n",
      "Got payment = 5\n",
      "15\n"
     ]
    }
   ],
   "source": [
    "def calc_taxes(*args):\n",
    "    for x in args:\n",
    "        print(f\"Got payment = {x}\")\n",
    "    return sum(args)\n",
    "print(calc_taxes(1,2,3,4,5))"
   ]
  },
  {
   "cell_type": "code",
   "execution_count": 2,
   "id": "8b551dc4-e8d7-4692-b51c-1aec8d77f6ea",
   "metadata": {},
   "outputs": [
    {
     "name": "stdout",
     "output_type": "stream",
     "text": [
      "Player Pavel has rating 1000\n",
      "Player Paul has rating 990\n"
     ]
    }
   ],
   "source": [
    "def save_players(**kwargs):\n",
    "    for k, v in kwargs.items():\n",
    "        print(f\"Player {k} has rating {v}\")\n",
    "save_players(Pavel=1000, Paul=990)  "
   ]
  }
 ],
 "metadata": {
  "kernelspec": {
   "display_name": "Python 3 (ipykernel)",
   "language": "python",
   "name": "python3"
  },
  "language_info": {
   "codemirror_mode": {
    "name": "ipython",
    "version": 3
   },
   "file_extension": ".py",
   "mimetype": "text/x-python",
   "name": "python",
   "nbconvert_exporter": "python",
   "pygments_lexer": "ipython3",
   "version": "3.10.9"
  }
 },
 "nbformat": 4,
 "nbformat_minor": 5
}
