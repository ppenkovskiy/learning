{
 "cells": [
  {
   "cell_type": "code",
   "execution_count": 38,
   "id": "51bdb44c-ed8f-43aa-a2d4-e05483b22856",
   "metadata": {},
   "outputs": [
    {
     "data": {
      "text/plain": [
       "list"
      ]
     },
     "execution_count": 38,
     "metadata": {},
     "output_type": "execute_result"
    }
   ],
   "source": [
    "numbers = [1,2,3]\n",
    "type(numbers)"
   ]
  },
  {
   "cell_type": "code",
   "execution_count": 39,
   "id": "5d976468-59b6-467c-8bb5-9433fbef0f70",
   "metadata": {},
   "outputs": [],
   "source": [
    "class Character():\n",
    "    def __init__(self, race, damage=10, armor=50):\n",
    "        self.race = race # assigning an argument to a class attribute\n",
    "        self.damage = damage\n",
    "        self.armor = armor"
   ]
  },
  {
   "cell_type": "code",
   "execution_count": 42,
   "id": "603cd7f8-4ce1-4180-94cf-4c219f913823",
   "metadata": {},
   "outputs": [],
   "source": [
    "unit = Character('orc', 15, 60)"
   ]
  },
  {
   "cell_type": "code",
   "execution_count": 43,
   "id": "6aae814e-335c-42e2-a94a-dde11913bd04",
   "metadata": {},
   "outputs": [
    {
     "name": "stdout",
     "output_type": "stream",
     "text": [
      "<class '__main__.Character'>\n",
      "orc\n"
     ]
    }
   ],
   "source": [
    "print(type(unit))\n",
    "print(unit.race)"
   ]
  },
  {
   "cell_type": "code",
   "execution_count": 46,
   "id": "232d1277-d5df-4efe-b049-332f70170f66",
   "metadata": {},
   "outputs": [
    {
     "name": "stdout",
     "output_type": "stream",
     "text": [
      "15\n",
      "60\n"
     ]
    }
   ],
   "source": [
    "print(unit.damage)\n",
    "print(unit.armor)"
   ]
  }
 ],
 "metadata": {
  "kernelspec": {
   "display_name": "Python 3 (ipykernel)",
   "language": "python",
   "name": "python3"
  },
  "language_info": {
   "codemirror_mode": {
    "name": "ipython",
    "version": 3
   },
   "file_extension": ".py",
   "mimetype": "text/x-python",
   "name": "python",
   "nbconvert_exporter": "python",
   "pygments_lexer": "ipython3",
   "version": "3.10.9"
  }
 },
 "nbformat": 4,
 "nbformat_minor": 5
}
