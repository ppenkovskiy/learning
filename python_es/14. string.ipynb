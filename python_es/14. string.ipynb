{
 "cells": [
  {
   "cell_type": "code",
   "execution_count": 35,
   "id": "beebf4f2-39ff-4f58-886a-63be714d17cb",
   "metadata": {},
   "outputs": [
    {
     "name": "stdout",
     "output_type": "stream",
     "text": [
      "I'm a \"strong\" programmer\n"
     ]
    }
   ],
   "source": [
    "print(\"I'm a \\\"strong\\\" programmer\")"
   ]
  },
  {
   "cell_type": "code",
   "execution_count": 36,
   "id": "d8abfee4-8c13-491e-96a6-d9bf2c89a8c4",
   "metadata": {},
   "outputs": [
    {
     "name": "stdout",
     "output_type": "stream",
     "text": [
      "C:\\Users\\Pavel\n"
     ]
    }
   ],
   "source": [
    "print(r\"C:\\Users\\Pavel\")"
   ]
  },
  {
   "cell_type": "code",
   "execution_count": 37,
   "id": "315185f3-e403-441b-bc4d-e52890dee7ef",
   "metadata": {},
   "outputs": [
    {
     "name": "stdout",
     "output_type": "stream",
     "text": [
      "I'm a\n",
      "\"strong\"\n",
      "programmer\n"
     ]
    }
   ],
   "source": [
    "print(\"I'm a\\n\\\"strong\\\"\\nprogrammer\")"
   ]
  },
  {
   "cell_type": "code",
   "execution_count": 38,
   "id": "977fd989-d7cd-4520-82b9-c0143e88c752",
   "metadata": {},
   "outputs": [
    {
     "name": "stdout",
     "output_type": "stream",
     "text": [
      "I'm a\n",
      "\"strong\"\n",
      "\tprogrammer\n"
     ]
    }
   ],
   "source": [
    "print(\"I'm a\\n\\\"strong\\\"\\n\\tprogrammer\")"
   ]
  },
  {
   "cell_type": "code",
   "execution_count": 39,
   "id": "393e0bab-b8ee-42fa-aed1-a4d3c9ed1a8b",
   "metadata": {},
   "outputs": [
    {
     "name": "stdout",
     "output_type": "stream",
     "text": [
      "Hi\n"
     ]
    }
   ],
   "source": [
    "greeting = str('Hi, my name is Pavel')\n",
    "print(greeting[0:2]) # not including the second index"
   ]
  },
  {
   "cell_type": "code",
   "execution_count": 40,
   "id": "d9d42d09-0a66-4bdf-8390-664a0e376f93",
   "metadata": {},
   "outputs": [
    {
     "name": "stdout",
     "output_type": "stream",
     "text": [
      "Hello, my name is Pavel\n"
     ]
    }
   ],
   "source": [
    "# 'str' object does not support item assignment, but you can replace items\n",
    "greeting = greeting.replace('Hi', 'Hello')\n",
    "print(greeting)"
   ]
  },
  {
   "cell_type": "code",
   "execution_count": 42,
   "id": "e8af6572-a5cb-4c4d-8d63-481d4a1eff11",
   "metadata": {},
   "outputs": [
    {
     "name": "stdout",
     "output_type": "stream",
     "text": [
      "hello world\n"
     ]
    }
   ],
   "source": [
    "hello = 'hello'\n",
    "world = 'world'\n",
    "print(\"{} {}\". format(hello, world))"
   ]
  },
  {
   "cell_type": "code",
   "execution_count": 43,
   "id": "ed056daa-2102-43db-ab48-fad6df23e03b",
   "metadata": {},
   "outputs": [
    {
     "data": {
      "text/plain": [
       "'aaaaa'"
      ]
     },
     "execution_count": 43,
     "metadata": {},
     "output_type": "execute_result"
    }
   ],
   "source": [
    "'a'*5"
   ]
  },
  {
   "cell_type": "code",
   "execution_count": 48,
   "id": "3ffbfb13-0acc-485b-8a98-cdccc87816b1",
   "metadata": {},
   "outputs": [
    {
     "ename": "TypeError",
     "evalue": "unsupported operand type(s) for +: 'int' and 'str'",
     "output_type": "error",
     "traceback": [
      "\u001b[1;31m---------------------------------------------------------------------------\u001b[0m",
      "\u001b[1;31mTypeError\u001b[0m                                 Traceback (most recent call last)",
      "Cell \u001b[1;32mIn[48], line 1\u001b[0m\n\u001b[1;32m----> 1\u001b[0m \u001b[38;5;241;43m2\u001b[39;49m\u001b[43m \u001b[49m\u001b[38;5;241;43m+\u001b[39;49m\u001b[43m \u001b[49m\u001b[38;5;124;43m'\u001b[39;49m\u001b[38;5;124;43m3\u001b[39;49m\u001b[38;5;124;43m'\u001b[39;49m\n",
      "\u001b[1;31mTypeError\u001b[0m: unsupported operand type(s) for +: 'int' and 'str'"
     ]
    }
   ],
   "source": [
    "2 + '3' # python is strongly typed language"
   ]
  },
  {
   "cell_type": "code",
   "execution_count": 50,
   "id": "4655f339-818a-4f23-b40a-fd1ab23f1d5a",
   "metadata": {},
   "outputs": [
    {
     "data": {
      "text/plain": [
       "5"
      ]
     },
     "execution_count": 50,
     "metadata": {},
     "output_type": "execute_result"
    }
   ],
   "source": [
    "2 + int('3')"
   ]
  }
 ],
 "metadata": {
  "kernelspec": {
   "display_name": "Python 3 (ipykernel)",
   "language": "python",
   "name": "python3"
  },
  "language_info": {
   "codemirror_mode": {
    "name": "ipython",
    "version": 3
   },
   "file_extension": ".py",
   "mimetype": "text/x-python",
   "name": "python",
   "nbconvert_exporter": "python",
   "pygments_lexer": "ipython3",
   "version": "3.10.9"
  }
 },
 "nbformat": 4,
 "nbformat_minor": 5
}
