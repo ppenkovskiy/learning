{
 "cells": [
  {
   "cell_type": "code",
   "execution_count": 1,
   "id": "23884125-45c3-4929-9445-6545e086a0bf",
   "metadata": {},
   "outputs": [
    {
     "name": "stdout",
     "output_type": "stream",
     "text": [
      "indeed, true\n"
     ]
    }
   ],
   "source": [
    "if True:\n",
    "    print('indeed, true')"
   ]
  },
  {
   "cell_type": "code",
   "execution_count": 2,
   "id": "d572ae23-9ec2-4f75-a4b3-2d1d809f3550",
   "metadata": {},
   "outputs": [
    {
     "name": "stdout",
     "output_type": "stream",
     "text": [
      "indeed, true\n"
     ]
    }
   ],
   "source": [
    "if 1:\n",
    "    print('indeed, true')"
   ]
  },
  {
   "cell_type": "code",
   "execution_count": 3,
   "id": "8b57de62-b63e-43ab-9a89-5559e8b4ecfd",
   "metadata": {},
   "outputs": [],
   "source": [
    "if False:\n",
    "    print('indeed, true')"
   ]
  },
  {
   "cell_type": "code",
   "execution_count": 5,
   "id": "0a38db8c-a55d-4c17-9e43-b57e4242d738",
   "metadata": {},
   "outputs": [],
   "source": [
    "if 0:\n",
    "    print('indeed, true')"
   ]
  },
  {
   "cell_type": "code",
   "execution_count": 7,
   "id": "bfdd7575-652f-40e9-9186-7db0e9efb5cd",
   "metadata": {},
   "outputs": [
    {
     "name": "stdout",
     "output_type": "stream",
     "text": [
      "really, true\n"
     ]
    }
   ],
   "source": [
    "if 3 > 2:\n",
    "    print('really, true')"
   ]
  },
  {
   "cell_type": "code",
   "execution_count": 16,
   "id": "061127aa-e2d1-4600-9416-1dea97504746",
   "metadata": {},
   "outputs": [
    {
     "name": "stdin",
     "output_type": "stream",
     "text": [
      " 0\n"
     ]
    },
    {
     "name": "stdout",
     "output_type": "stream",
     "text": [
      "0 = 0\n"
     ]
    }
   ],
   "source": [
    "x = int(input())\n",
    "if x > 0:\n",
    "    print(f\"{x} > 0\")\n",
    "elif x < 0:\n",
    "    print(f\"{x} < 0\")\n",
    "elif x == 0:\n",
    "    print(f\"{x} = 0\")\n",
    "else:\n",
    "    print('Your input is not a number')"
   ]
  },
  {
   "cell_type": "code",
   "execution_count": null,
   "id": "bdb7b168-01ee-4e47-bd09-396f3b3190fa",
   "metadata": {},
   "outputs": [],
   "source": []
  }
 ],
 "metadata": {
  "kernelspec": {
   "display_name": "Python 3 (ipykernel)",
   "language": "python",
   "name": "python3"
  },
  "language_info": {
   "codemirror_mode": {
    "name": "ipython",
    "version": 3
   },
   "file_extension": ".py",
   "mimetype": "text/x-python",
   "name": "python",
   "nbconvert_exporter": "python",
   "pygments_lexer": "ipython3",
   "version": "3.10.9"
  }
 },
 "nbformat": 4,
 "nbformat_minor": 5
}
