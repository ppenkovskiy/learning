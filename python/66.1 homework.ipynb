{
 "cells": [
  {
   "cell_type": "code",
   "execution_count": 1,
   "id": "d68698ee-e4fb-492b-80da-1b885eef4634",
   "metadata": {},
   "outputs": [],
   "source": [
    "class Name:\n",
    "    def __init__(self, first_name, last_name):\n",
    "        self.first_name = first_name.capitalize()\n",
    "        self.last_name = last_name.capitalize()\n",
    "        self.full_name = self.first_name + ' ' + self.last_name\n",
    "        self.initials = self.first_name[0] +'.' + self.last_name[0]"
   ]
  }
 ],
 "metadata": {
  "kernelspec": {
   "display_name": "Python 3 (ipykernel)",
   "language": "python",
   "name": "python3"
  },
  "language_info": {
   "codemirror_mode": {
    "name": "ipython",
    "version": 3
   },
   "file_extension": ".py",
   "mimetype": "text/x-python",
   "name": "python",
   "nbconvert_exporter": "python",
   "pygments_lexer": "ipython3",
   "version": "3.10.9"
  }
 },
 "nbformat": 4,
 "nbformat_minor": 5
}
