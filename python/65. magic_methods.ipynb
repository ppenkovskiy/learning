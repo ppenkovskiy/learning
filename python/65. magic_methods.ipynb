{
 "cells": [
  {
   "cell_type": "code",
   "execution_count": 19,
   "id": "e7c3876d-9677-4baa-abd7-910c070b93ab",
   "metadata": {},
   "outputs": [],
   "source": [
    "class Point():\n",
    "    def __init__(self, x, y):\n",
    "        self.x = x\n",
    "        self.y = y\n",
    "    \n",
    "    def __str__(self):\n",
    "        return f\"Point x = {self.x}, y = {self.y}\""
   ]
  },
  {
   "cell_type": "code",
   "execution_count": 20,
   "id": "b25bc346-8dbe-4660-80b6-e9c3c767095b",
   "metadata": {},
   "outputs": [
    {
     "name": "stdout",
     "output_type": "stream",
     "text": [
      "Point x = 3, y = 4\n"
     ]
    }
   ],
   "source": [
    "p = Point(3, 4)\n",
    "print(p)"
   ]
  },
  {
   "cell_type": "code",
   "execution_count": 21,
   "id": "6152efdd-6dfd-4b28-b040-88200fecaed2",
   "metadata": {},
   "outputs": [],
   "source": [
    "class Road():\n",
    "    def __init__(self, length):\n",
    "        self.length = length\n",
    "        \n",
    "    def __len__(self):\n",
    "        return self.length\n",
    "    \n",
    "    def __str__(self):\n",
    "        return f\"A road of length: {self.length}.\"\n",
    "    \n",
    "    def __del__(self):\n",
    "        print('The road has been destroyed.')"
   ]
  },
  {
   "cell_type": "code",
   "execution_count": 22,
   "id": "01f19ad5-2de9-456f-80e0-4fe3e4a048b2",
   "metadata": {},
   "outputs": [],
   "source": [
    "r = Road(999)"
   ]
  },
  {
   "cell_type": "code",
   "execution_count": 23,
   "id": "bb71132f-cbef-4170-a161-4a48b3706b5f",
   "metadata": {},
   "outputs": [
    {
     "data": {
      "text/plain": [
       "999"
      ]
     },
     "execution_count": 23,
     "metadata": {},
     "output_type": "execute_result"
    }
   ],
   "source": [
    "len(r)"
   ]
  },
  {
   "cell_type": "code",
   "execution_count": 24,
   "id": "08592f57-2119-4fb2-894a-f1a9868414a9",
   "metadata": {},
   "outputs": [
    {
     "name": "stdout",
     "output_type": "stream",
     "text": [
      "A road of length: 999.\n"
     ]
    }
   ],
   "source": [
    "print(r)"
   ]
  },
  {
   "cell_type": "code",
   "execution_count": 25,
   "id": "8e57910b-1683-49e7-823b-7cc4bd627d27",
   "metadata": {},
   "outputs": [
    {
     "name": "stdout",
     "output_type": "stream",
     "text": [
      "The road has been destroyed.\n"
     ]
    }
   ],
   "source": [
    "del r"
   ]
  },
  {
   "cell_type": "code",
   "execution_count": null,
   "id": "30c83807-c7c7-4739-99d8-07a5a66be8d4",
   "metadata": {},
   "outputs": [],
   "source": []
  }
 ],
 "metadata": {
  "kernelspec": {
   "display_name": "Python 3 (ipykernel)",
   "language": "python",
   "name": "python3"
  },
  "language_info": {
   "codemirror_mode": {
    "name": "ipython",
    "version": 3
   },
   "file_extension": ".py",
   "mimetype": "text/x-python",
   "name": "python",
   "nbconvert_exporter": "python",
   "pygments_lexer": "ipython3",
   "version": "3.10.9"
  }
 },
 "nbformat": 4,
 "nbformat_minor": 5
}
