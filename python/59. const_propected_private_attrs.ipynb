{
 "cells": [
  {
   "cell_type": "code",
   "execution_count": 1,
   "id": "587476de-cfa8-4e74-8d07-f03104aed5cf",
   "metadata": {},
   "outputs": [],
   "source": [
    "class Character():\n",
    "    MAX_SPEED = 100 \n",
    "    \n",
    "    def __init__(self, race, damage=10):\n",
    "        self.damage = damage\n",
    "        self.__race = race\n",
    "        self._health = 100\n",
    "        self._current_speed = 20\n",
    "        \n",
    "    def hit(self, damage):\n",
    "        self._health -= damage   \n",
    "    \n",
    "    @property\n",
    "    def health(self):\n",
    "        return self._health     \n",
    "    \n",
    "    @property\n",
    "    def race(self):\n",
    "        return self.__race\n",
    "    \n",
    "    @property\n",
    "    def current_speed(self):\n",
    "        return self._current_speed\n",
    "    \n",
    "    @current_speed.setter\n",
    "    def current_speed(self, current_speed):\n",
    "        if current_speed < 0:\n",
    "            self._current_speed = 0\n",
    "        elif current_speed > 100:\n",
    "            self._current_speed = 100\n",
    "        else:\n",
    "            self._current_speed = current_speed"
   ]
  },
  {
   "cell_type": "code",
   "execution_count": 2,
   "id": "447c32a2-0c12-4b3d-9eaa-b73060767874",
   "metadata": {},
   "outputs": [
    {
     "data": {
      "text/plain": [
       "100"
      ]
     },
     "execution_count": 2,
     "metadata": {},
     "output_type": "execute_result"
    }
   ],
   "source": [
    "Character.MAX_SPEED"
   ]
  },
  {
   "cell_type": "code",
   "execution_count": 3,
   "id": "fbfc4fa9-eac0-43d3-8bf9-7101c9680452",
   "metadata": {},
   "outputs": [
    {
     "data": {
      "text/plain": [
       "10"
      ]
     },
     "execution_count": 3,
     "metadata": {},
     "output_type": "execute_result"
    }
   ],
   "source": [
    "Character.MAX_SPEED = 10\n",
    "Character.MAX_SPEED"
   ]
  },
  {
   "cell_type": "code",
   "execution_count": 4,
   "id": "4f4060d4-2a68-4d52-b9b1-88fb86974a1c",
   "metadata": {},
   "outputs": [],
   "source": [
    "c = Character('Orc')"
   ]
  },
  {
   "cell_type": "code",
   "execution_count": 5,
   "id": "712cc91b-e9d3-48a1-9e36-57cbd451d399",
   "metadata": {},
   "outputs": [],
   "source": [
    "c._Character__race = 'Ork'"
   ]
  },
  {
   "cell_type": "code",
   "execution_count": 6,
   "id": "2a112c5b-2c3a-4b19-b555-1300d38d799d",
   "metadata": {},
   "outputs": [
    {
     "data": {
      "text/plain": [
       "'Ork'"
      ]
     },
     "execution_count": 6,
     "metadata": {},
     "output_type": "execute_result"
    }
   ],
   "source": [
    "c._Character__race"
   ]
  },
  {
   "cell_type": "code",
   "execution_count": 7,
   "id": "c221490c-d654-40f4-89a5-b56f3fa6395e",
   "metadata": {},
   "outputs": [
    {
     "data": {
      "text/plain": [
       "'Ork'"
      ]
     },
     "execution_count": 7,
     "metadata": {},
     "output_type": "execute_result"
    }
   ],
   "source": [
    "c.race"
   ]
  },
  {
   "cell_type": "code",
   "execution_count": 8,
   "id": "ce6c4b16-976e-4ac9-9f19-a23fe5f7ff0e",
   "metadata": {},
   "outputs": [
    {
     "data": {
      "text/plain": [
       "20"
      ]
     },
     "execution_count": 8,
     "metadata": {},
     "output_type": "execute_result"
    }
   ],
   "source": [
    "c.current_speed"
   ]
  },
  {
   "cell_type": "code",
   "execution_count": 14,
   "id": "cd7a6ab6-e7e8-488a-9abc-e34e1234a80d",
   "metadata": {},
   "outputs": [
    {
     "data": {
      "text/plain": [
       "100"
      ]
     },
     "execution_count": 14,
     "metadata": {},
     "output_type": "execute_result"
    }
   ],
   "source": [
    "c.current_speed = 100\n",
    "c.current_speed"
   ]
  },
  {
   "cell_type": "code",
   "execution_count": 15,
   "id": "13f409f1-4d77-4da6-8ee7-f6562237b2d2",
   "metadata": {},
   "outputs": [
    {
     "data": {
      "text/plain": [
       "100"
      ]
     },
     "execution_count": 15,
     "metadata": {},
     "output_type": "execute_result"
    }
   ],
   "source": [
    "c.current_speed = 200\n",
    "c.current_speed"
   ]
  },
  {
   "cell_type": "code",
   "execution_count": 16,
   "id": "be84aacb-0c6c-4e6d-bfb6-98cbb6521afa",
   "metadata": {},
   "outputs": [
    {
     "data": {
      "text/plain": [
       "0"
      ]
     },
     "execution_count": 16,
     "metadata": {},
     "output_type": "execute_result"
    }
   ],
   "source": [
    "c.current_speed = -200\n",
    "c.current_speed"
   ]
  }
 ],
 "metadata": {
  "kernelspec": {
   "display_name": "Python 3 (ipykernel)",
   "language": "python",
   "name": "python3"
  },
  "language_info": {
   "codemirror_mode": {
    "name": "ipython",
    "version": 3
   },
   "file_extension": ".py",
   "mimetype": "text/x-python",
   "name": "python",
   "nbconvert_exporter": "python",
   "pygments_lexer": "ipython3",
   "version": "3.10.9"
  }
 },
 "nbformat": 4,
 "nbformat_minor": 5
}
