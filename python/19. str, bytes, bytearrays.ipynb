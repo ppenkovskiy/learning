{
 "cells": [
  {
   "cell_type": "code",
   "execution_count": 1,
   "id": "90a8e588-05e6-4486-abd8-f308d2d75d14",
   "metadata": {},
   "outputs": [],
   "source": [
    "import sys"
   ]
  },
  {
   "cell_type": "code",
   "execution_count": 2,
   "id": "edeeb72a-29ce-4148-9a2c-1252d5cc9a4b",
   "metadata": {},
   "outputs": [
    {
     "data": {
      "text/plain": [
       "'utf-8'"
      ]
     },
     "execution_count": 2,
     "metadata": {},
     "output_type": "execute_result"
    }
   ],
   "source": [
    "sys.getdefaultencoding()"
   ]
  },
  {
   "cell_type": "code",
   "execution_count": 3,
   "id": "e3931a7c-0333-4004-9831-a20793dc9f3f",
   "metadata": {},
   "outputs": [
    {
     "data": {
      "text/plain": [
       "97"
      ]
     },
     "execution_count": 3,
     "metadata": {},
     "output_type": "execute_result"
    }
   ],
   "source": [
    "ord('a') # unicode number"
   ]
  },
  {
   "cell_type": "code",
   "execution_count": 4,
   "id": "130ffd70-6d56-462b-b98c-bfe60437b9f5",
   "metadata": {},
   "outputs": [
    {
     "data": {
      "text/plain": [
       "'a'"
      ]
     },
     "execution_count": 4,
     "metadata": {},
     "output_type": "execute_result"
    }
   ],
   "source": [
    "chr(97) # show character by unicode number"
   ]
  },
  {
   "cell_type": "code",
   "execution_count": 5,
   "id": "dc082d05-1105-46a7-b987-8a28b1e5841f",
   "metadata": {},
   "outputs": [
    {
     "name": "stdout",
     "output_type": "stream",
     "text": [
      "<class 'bytes'>\n",
      "5\n",
      "b'hello'\n",
      "<class 'bytes'>\n",
      "5\n",
      "b'hello'\n",
      "<class 'bytes'>\n",
      "12\n",
      "b'\\xff\\xfeh\\x00e\\x00l\\x00l\\x00o\\x00'\n"
     ]
    }
   ],
   "source": [
    "s = 'hello'\n",
    "enc_ascii = s.encode('ascii')\n",
    "enc_utf8 = s.encode('utf8')\n",
    "enc_utf16 = s.encode('utf16')\n",
    "print(type(enc_ascii))\n",
    "print(len(enc_ascii))\n",
    "print(enc_ascii)\n",
    "print(type(enc_utf8))\n",
    "print(len(enc_utf8))\n",
    "print(enc_utf8)\n",
    "print(type(enc_utf16))\n",
    "print(len(enc_utf16))\n",
    "print(enc_utf16)"
   ]
  },
  {
   "cell_type": "code",
   "execution_count": 6,
   "id": "eab21b7a-5f25-425c-9995-74118b5305a8",
   "metadata": {},
   "outputs": [
    {
     "name": "stdout",
     "output_type": "stream",
     "text": [
      "<class 'bytes'>\n",
      "<class 'str'>\n"
     ]
    }
   ],
   "source": [
    "s = 'hello'\n",
    "str_in_bytes = s.encode('utf8')\n",
    "\n",
    "str_in_text = s\n",
    "\n",
    "print(type(str_in_bytes))\n",
    "print(type(str_in_text))\n"
   ]
  },
  {
   "cell_type": "code",
   "execution_count": 7,
   "id": "7d86a5c9-2b7f-451f-ad6c-b0170b6b5eac",
   "metadata": {},
   "outputs": [
    {
     "name": "stdout",
     "output_type": "stream",
     "text": [
      "b'text'\n",
      "b'\\xd1\\x82\\xd0\\xb5\\xd0\\xba\\xd1\\x81\\xd1\\x82'\n"
     ]
    }
   ],
   "source": [
    "print('text'.encode('utf8'))\n",
    "print('текст'.encode('utf8'))"
   ]
  },
  {
   "cell_type": "code",
   "execution_count": 8,
   "id": "3ddd30ef-2c96-4e8a-8aa2-93557e44f512",
   "metadata": {},
   "outputs": [
    {
     "name": "stdout",
     "output_type": "stream",
     "text": [
      "bytearray(b'Wello')\n"
     ]
    }
   ],
   "source": [
    "ba = bytearray(b'hello')\n",
    "ba[0] = 87\n",
    "print(ba)"
   ]
  },
  {
   "cell_type": "code",
   "execution_count": 9,
   "id": "bcec2902-f88d-4ac3-a8fa-fbff6acca64c",
   "metadata": {},
   "outputs": [
    {
     "name": "stdout",
     "output_type": "stream",
     "text": [
      "hello\n"
     ]
    }
   ],
   "source": [
    "str_in_text = str(str_in_bytes, 'utf8')\n",
    "print(str_in_text)"
   ]
  },
  {
   "cell_type": "code",
   "execution_count": 10,
   "id": "d4f1d7a0-5c32-4ab6-8261-cb0c4614108c",
   "metadata": {},
   "outputs": [
    {
     "name": "stdout",
     "output_type": "stream",
     "text": [
      "hello\n"
     ]
    }
   ],
   "source": [
    "str_in_text = str_in_bytes.decode('utf8')\n",
    "print(str_in_text)"
   ]
  },
  {
   "cell_type": "code",
   "execution_count": 11,
   "id": "1fb0f940-58ae-4892-935e-51288202847e",
   "metadata": {},
   "outputs": [],
   "source": [
    "jpeg = [120, 3, 255, 0, 100]\n",
    "with open('C:\\\\Users\\\\Pavel Penkovskiy\\\\Desktop\\\\learning\\\\python_es\\\\btest.bin', mode='w+b') as file:\n",
    "    file.write(bytes(jpeg))    "
   ]
  },
  {
   "cell_type": "code",
   "execution_count": 12,
   "id": "4f2a7b32-e8bf-43e9-b8e5-adba12c8ff01",
   "metadata": {},
   "outputs": [
    {
     "name": "stdout",
     "output_type": "stream",
     "text": [
      "120\n",
      "3\n",
      "255\n",
      "0\n",
      "100\n"
     ]
    }
   ],
   "source": [
    "with open('C:\\\\Users\\\\Pavel Penkovskiy\\\\Desktop\\\\learning\\\\python_es\\\\btest.bin', mode='rb') as file:\n",
    "    data = file.read()\n",
    "    for d in data:\n",
    "        print(int(d))"
   ]
  },
  {
   "cell_type": "code",
   "execution_count": null,
   "id": "b102e008-70b8-4dd8-be90-ed62612983fa",
   "metadata": {},
   "outputs": [],
   "source": []
  }
 ],
 "metadata": {
  "kernelspec": {
   "display_name": "Python 3 (ipykernel)",
   "language": "python",
   "name": "python3"
  },
  "language_info": {
   "codemirror_mode": {
    "name": "ipython",
    "version": 3
   },
   "file_extension": ".py",
   "mimetype": "text/x-python",
   "name": "python",
   "nbconvert_exporter": "python",
   "pygments_lexer": "ipython3",
   "version": "3.10.9"
  }
 },
 "nbformat": 4,
 "nbformat_minor": 5
}
