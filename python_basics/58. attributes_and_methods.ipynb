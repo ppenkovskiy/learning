{
 "cells": [
  {
   "cell_type": "code",
   "execution_count": 40,
   "id": "6ff62d89-1031-4409-a954-282e90c17471",
   "metadata": {},
   "outputs": [],
   "source": [
    "class Character():\n",
    "    max_speed = 126\n",
    "    dead_health = 0\n",
    "    \n",
    "    def __init__(self, race, damage=10, armor=20):\n",
    "        self.race = race\n",
    "        self.damage = damage\n",
    "        self.armor = armor\n",
    "        self.health = 100\n",
    "        \n",
    "    def hit(self, damage):\n",
    "        self.health -= damage\n",
    "        \n",
    "    def is_dead(self):\n",
    "        return self.health == Character.dead_health"
   ]
  },
  {
   "cell_type": "code",
   "execution_count": 41,
   "id": "ded2e455-8f44-4b40-9ae4-9bf3139274e3",
   "metadata": {},
   "outputs": [
    {
     "name": "stdout",
     "output_type": "stream",
     "text": [
      "126\n",
      "126\n"
     ]
    }
   ],
   "source": [
    "unit = Character('Ork')\n",
    "print(Character.max_speed)\n",
    "print(unit.max_speed)"
   ]
  },
  {
   "cell_type": "code",
   "execution_count": 42,
   "id": "e9d7b6a5-3377-492e-92d5-d55b372f5b82",
   "metadata": {},
   "outputs": [
    {
     "name": "stdout",
     "output_type": "stream",
     "text": [
      "100\n",
      "0\n",
      "True\n"
     ]
    }
   ],
   "source": [
    "print(unit.health)\n",
    "unit.hit(100)\n",
    "print(unit.health)\n",
    "print(unit.is_dead())"
   ]
  }
 ],
 "metadata": {
  "kernelspec": {
   "display_name": "Python 3 (ipykernel)",
   "language": "python",
   "name": "python3"
  },
  "language_info": {
   "codemirror_mode": {
    "name": "ipython",
    "version": 3
   },
   "file_extension": ".py",
   "mimetype": "text/x-python",
   "name": "python",
   "nbconvert_exporter": "python",
   "pygments_lexer": "ipython3",
   "version": "3.10.9"
  }
 },
 "nbformat": 4,
 "nbformat_minor": 5
}
