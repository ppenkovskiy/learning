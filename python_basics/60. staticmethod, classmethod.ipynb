{
 "cells": [
  {
   "cell_type": "code",
   "execution_count": 32,
   "id": "d459e9fe-ca98-4f07-bec9-0db79fc1f0fb",
   "metadata": {},
   "outputs": [],
   "source": [
    "class StaticTest:\n",
    "    x = 1"
   ]
  },
  {
   "cell_type": "code",
   "execution_count": 33,
   "id": "8239f2f9-738a-4f7d-8e2e-e480a0461101",
   "metadata": {},
   "outputs": [],
   "source": [
    "t1 = StaticTest()"
   ]
  },
  {
   "cell_type": "code",
   "execution_count": 34,
   "id": "681977c3-0020-43b5-adf1-97d16303edc5",
   "metadata": {},
   "outputs": [
    {
     "name": "stdout",
     "output_type": "stream",
     "text": [
      "Via instance x = 1\n",
      "Via class x = 1\n"
     ]
    }
   ],
   "source": [
    "print(f\"Via instance x = {t1.x}\")\n",
    "print(f\"Via class x = {StaticTest.x}\")"
   ]
  },
  {
   "cell_type": "code",
   "execution_count": 35,
   "id": "bf6335bf-ecf4-44ab-bdbd-6eb176e29973",
   "metadata": {},
   "outputs": [],
   "source": [
    "t1.x = 2"
   ]
  },
  {
   "cell_type": "code",
   "execution_count": 36,
   "id": "53b2404c-d5b5-45d5-b8b9-3ddd2c2ab62f",
   "metadata": {},
   "outputs": [
    {
     "name": "stdout",
     "output_type": "stream",
     "text": [
      "Via instance x = 2\n",
      "Via class x = 1\n"
     ]
    }
   ],
   "source": [
    "print(f\"Via instance x = {t1.x}\")\n",
    "print(f\"Via class x = {StaticTest.x}\")"
   ]
  },
  {
   "cell_type": "code",
   "execution_count": 37,
   "id": "f56f80b3-d417-4667-a7ce-62f2ce1586e3",
   "metadata": {},
   "outputs": [],
   "source": [
    "StaticTest.x = 3"
   ]
  },
  {
   "cell_type": "code",
   "execution_count": 38,
   "id": "86892d33-ef74-45ae-9783-b4b905cff9f5",
   "metadata": {},
   "outputs": [
    {
     "name": "stdout",
     "output_type": "stream",
     "text": [
      "Via instance x = 2\n",
      "Via class x = 3\n"
     ]
    }
   ],
   "source": [
    "print(f\"Via instance x = {t1.x}\")\n",
    "print(f\"Via class x = {StaticTest.x}\")"
   ]
  },
  {
   "cell_type": "code",
   "execution_count": 39,
   "id": "cb7e386b-8db3-4fe1-aa72-c93ab2becfb6",
   "metadata": {},
   "outputs": [],
   "source": [
    "class Date:\n",
    "    def __init__(self, month, day, year):\n",
    "        self.month = month\n",
    "        self.year = year\n",
    "        self.day = day\n",
    "    \n",
    "    def display(self):\n",
    "        return f\"{self.month}-{self.day}-{self.year}\"\n",
    "    \n",
    "    @classmethod\n",
    "    def millenium_c(cls, month, day):\n",
    "        return cls(month, day, 2000)\n",
    "    \n",
    "    @staticmethod # abstracted from the class\n",
    "    def millenium_s(month, day):\n",
    "        return Date(month, day, 2000) # creates object of class Date"
   ]
  },
  {
   "cell_type": "code",
   "execution_count": 40,
   "id": "478aefe8-3929-465a-a87c-ce16c2bf286d",
   "metadata": {},
   "outputs": [
    {
     "name": "stdout",
     "output_type": "stream",
     "text": [
      "9-26-2000\n",
      "9-26-2000\n"
     ]
    }
   ],
   "source": [
    "d1 = Date.millenium_c(9, 26)\n",
    "print(d1.display())\n",
    "d2 = Date.millenium_s(6, 26)\n",
    "print(d1.display())"
   ]
  },
  {
   "cell_type": "code",
   "execution_count": 41,
   "id": "6cc7b63f-f686-4517-bb5d-9b55681bd2ff",
   "metadata": {},
   "outputs": [],
   "source": [
    "class DateTime(Date):\n",
    "    def display(self):\n",
    "        return f\"{self.month}-{self.day}-{self.year} - 00:00:00PM\""
   ]
  },
  {
   "cell_type": "code",
   "execution_count": 42,
   "id": "d1b157a3-dd3e-463a-a3b6-189eebc2016b",
   "metadata": {},
   "outputs": [
    {
     "name": "stdout",
     "output_type": "stream",
     "text": [
      "True\n",
      "True\n",
      "False\n",
      "10-10-1990 - 00:00:00PM\n",
      "10-10-2000 - 00:00:00PM\n",
      "10-10-2000\n"
     ]
    }
   ],
   "source": [
    "dt1 = DateTime(10, 10, 1990)  # creates object of class DateTime\n",
    "dt2 = DateTime.millenium_c(10, 10)   # creates object of class DateTime\n",
    "dt3 = DateTime.millenium_s(10, 10)   # creates object of class Date\n",
    "print(isinstance(dt1, DateTime))\n",
    "print(isinstance(dt2, DateTime))\n",
    "print(isinstance(dt3, DateTime))\n",
    "print(dt1.display())\n",
    "print(dt2.display())\n",
    "print(dt3.display())"
   ]
  },
  {
   "cell_type": "code",
   "execution_count": 43,
   "id": "cf167866-82a0-48c4-a320-cd6cbe632467",
   "metadata": {},
   "outputs": [],
   "source": [
    "class StrConverter:\n",
    "    @staticmethod\n",
    "    def to_str(bytes_or_str):\n",
    "        if isinstance(bytes_or_str, bytes):\n",
    "            value = bytes_or_str.decode('utf8')\n",
    "        else:\n",
    "            value = bytes_or_str\n",
    "        return value\n",
    "    \n",
    "    @staticmethod\n",
    "    def to_bytes(bytes_or_str):\n",
    "        if isinstance(bytes_or_str, str):\n",
    "            value = bytes_or_str.encode('utf8')\n",
    "        else:\n",
    "            value = bytes_or_str\n",
    "        return value\n",
    "        "
   ]
  },
  {
   "cell_type": "code",
   "execution_count": 44,
   "id": "7ba2281f-aebe-4ffa-b619-6e56919c128c",
   "metadata": {},
   "outputs": [
    {
     "name": "stdout",
     "output_type": "stream",
     "text": [
      "A\n",
      "A\n"
     ]
    }
   ],
   "source": [
    "print(StrConverter.to_str('\\x41'))\n",
    "print(StrConverter.to_str('A'))"
   ]
  },
  {
   "cell_type": "code",
   "execution_count": 45,
   "id": "9de8d742-82b1-4c02-8863-585d86a37f62",
   "metadata": {},
   "outputs": [
    {
     "name": "stdout",
     "output_type": "stream",
     "text": [
      "b'A'\n",
      "b'A'\n"
     ]
    }
   ],
   "source": [
    "print(StrConverter.to_bytes('\\x41'))\n",
    "print(StrConverter.to_bytes('A'))"
   ]
  }
 ],
 "metadata": {
  "kernelspec": {
   "display_name": "Python 3 (ipykernel)",
   "language": "python",
   "name": "python3"
  },
  "language_info": {
   "codemirror_mode": {
    "name": "ipython",
    "version": 3
   },
   "file_extension": ".py",
   "mimetype": "text/x-python",
   "name": "python",
   "nbconvert_exporter": "python",
   "pygments_lexer": "ipython3",
   "version": "3.10.9"
  }
 },
 "nbformat": 4,
 "nbformat_minor": 5
}
