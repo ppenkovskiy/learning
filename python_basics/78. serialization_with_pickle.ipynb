{
 "cells": [
  {
   "cell_type": "code",
   "execution_count": 29,
   "id": "6d1801ae-22eb-4f99-9f18-373c279eb678",
   "metadata": {},
   "outputs": [],
   "source": [
    "class Character():\n",
    "    def __init__(self, race, armor = 50, damage = 10):\n",
    "        self.race = race\n",
    "        self.damage = damage\n",
    "        self.armor = armor\n",
    "        self.health = 100\n",
    "    def hit(self, damage):\n",
    "        self.health -= damage\n",
    "        \n",
    "    def is_dead(self):\n",
    "        return self.health <= 0\n",
    "    \n",
    "    # def __getstate__(self):\n",
    "        \n",
    "    def __setstate__(self, state):\n",
    "        self.race = state.get('race', 'Elf')\n",
    "        self.damage = state.get('damage', 10)\n",
    "        self.armor = state.get('armor', 20)\n",
    "        self.health = state.get('health', 100)                              "
   ]
  },
  {
   "cell_type": "code",
   "execution_count": 30,
   "id": "24c35993-300f-48a9-84dd-8db2e9eb159c",
   "metadata": {},
   "outputs": [
    {
     "data": {
      "text/plain": [
       "90"
      ]
     },
     "execution_count": 30,
     "metadata": {},
     "output_type": "execute_result"
    }
   ],
   "source": [
    "c = Character('Elf')\n",
    "c.hit(10)\n",
    "c.health"
   ]
  },
  {
   "cell_type": "code",
   "execution_count": 31,
   "id": "a48cf24c-2cf8-49ff-9a3d-9454a65e745c",
   "metadata": {},
   "outputs": [],
   "source": [
    "import pickle\n",
    "\n",
    "with open(r\"C:\\\\Users\\\\Pavel Penkovskiy\\\\Desktop\\\\learning\\\\python_es\\\\78. pickle\\\\game_state.bin\", \"w+b\") as f:\n",
    "    pickle.dump(c, f)    "
   ]
  },
  {
   "cell_type": "code",
   "execution_count": 32,
   "id": "240cd879-41cc-4151-b4a6-b240fa7ed07f",
   "metadata": {},
   "outputs": [],
   "source": [
    "c = None"
   ]
  },
  {
   "cell_type": "code",
   "execution_count": 33,
   "id": "74bf3ab6-8085-470f-9f50-25394797e7f4",
   "metadata": {},
   "outputs": [
    {
     "name": "stdout",
     "output_type": "stream",
     "text": [
      "None\n"
     ]
    }
   ],
   "source": [
    "print(c)"
   ]
  },
  {
   "cell_type": "code",
   "execution_count": 34,
   "id": "3de59eee-3373-478e-86e5-79bb0639001f",
   "metadata": {},
   "outputs": [
    {
     "name": "stdout",
     "output_type": "stream",
     "text": [
      "90\n"
     ]
    }
   ],
   "source": [
    "with open(r\"C:\\\\Users\\\\Pavel Penkovskiy\\\\Desktop\\\\learning\\\\python_es\\\\78. pickle\\\\game_state.bin\", \"rb\") as f:\n",
    "    c = pickle.load(f)\n",
    "print(c.health)"
   ]
  },
  {
   "cell_type": "code",
   "execution_count": 35,
   "id": "84f98adf-659c-4620-af63-8c6b3aad91de",
   "metadata": {},
   "outputs": [
    {
     "name": "stdout",
     "output_type": "stream",
     "text": [
      "{'race': 'Elf', 'damage': 10, 'armor': 50, 'health': 90}\n"
     ]
    }
   ],
   "source": [
    "print(c.__dict__)"
   ]
  },
  {
   "cell_type": "code",
   "execution_count": null,
   "id": "aca28a2d-078d-4afd-b9ab-fd07c92e79b6",
   "metadata": {},
   "outputs": [],
   "source": []
  }
 ],
 "metadata": {
  "kernelspec": {
   "display_name": "Python 3 (ipykernel)",
   "language": "python",
   "name": "python3"
  },
  "language_info": {
   "codemirror_mode": {
    "name": "ipython",
    "version": 3
   },
   "file_extension": ".py",
   "mimetype": "text/x-python",
   "name": "python",
   "nbconvert_exporter": "python",
   "pygments_lexer": "ipython3",
   "version": "3.10.9"
  }
 },
 "nbformat": 4,
 "nbformat_minor": 5
}
