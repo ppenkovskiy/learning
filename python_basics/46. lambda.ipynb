{
 "cells": [
  {
   "cell_type": "code",
   "execution_count": 1,
   "id": "14a8e532-1305-437d-a530-2f09754b188a",
   "metadata": {},
   "outputs": [
    {
     "name": "stdout",
     "output_type": "stream",
     "text": [
      "[1, 4, 9, 16]\n"
     ]
    }
   ],
   "source": [
    "def square(*args):\n",
    "    return [x*x for x in args]\n",
    "\n",
    "print(square(1,2,3,4))"
   ]
  },
  {
   "cell_type": "code",
   "execution_count": 2,
   "id": "2de233f2-46f7-4fbe-8be2-3128161e68a0",
   "metadata": {},
   "outputs": [
    {
     "name": "stdout",
     "output_type": "stream",
     "text": [
      "[1, 4, 9, 16, 25]\n"
     ]
    }
   ],
   "source": [
    "result = square(1,2,3,4,5)\n",
    "print(result)"
   ]
  },
  {
   "cell_type": "code",
   "execution_count": 3,
   "id": "3f381575-c620-4aca-8948-b0fbcdd88b64",
   "metadata": {},
   "outputs": [],
   "source": [
    "def triple(*args):\n",
    "    return [x*3 for x in args]"
   ]
  },
  {
   "cell_type": "code",
   "execution_count": 4,
   "id": "22907c77-de38-4a30-9096-44b2c79c6897",
   "metadata": {},
   "outputs": [
    {
     "name": "stdout",
     "output_type": "stream",
     "text": [
      "[3, 6, 9, 12, 15]\n"
     ]
    }
   ],
   "source": [
    "result = triple(1,2,3,4,5)\n",
    "print(result)"
   ]
  },
  {
   "cell_type": "code",
   "execution_count": 5,
   "id": "a40ff135-7760-4ffd-b5fb-793e20dd778c",
   "metadata": {},
   "outputs": [
    {
     "name": "stdout",
     "output_type": "stream",
     "text": [
      "[1, 4, 9, 16, 25]\n"
     ]
    }
   ],
   "source": [
    "def square(number):\n",
    "    return number**2\n",
    "numbers = [1,2,3,4,5]\n",
    "res = map(square, numbers)\n",
    "print(list(res))"
   ]
  },
  {
   "cell_type": "code",
   "execution_count": 6,
   "id": "dcfe0c4d-7c5c-46fa-af24-5ee474c6c0ea",
   "metadata": {},
   "outputs": [
    {
     "name": "stdout",
     "output_type": "stream",
     "text": [
      "1\n",
      "4\n",
      "9\n",
      "16\n",
      "25\n"
     ]
    }
   ],
   "source": [
    "for i in map(square, numbers):\n",
    "    print(i)"
   ]
  },
  {
   "cell_type": "code",
   "execution_count": 7,
   "id": "9314dbed-01c1-4376-9426-71b864f49164",
   "metadata": {},
   "outputs": [
    {
     "name": "stdout",
     "output_type": "stream",
     "text": [
      "<class 'map'>\n"
     ]
    }
   ],
   "source": [
    "print(type(map(square, numbers)))"
   ]
  },
  {
   "cell_type": "code",
   "execution_count": 21,
   "id": "34c2506f-2ded-43d2-b5f5-f4ce4e7d339b",
   "metadata": {},
   "outputs": [
    {
     "name": "stdout",
     "output_type": "stream",
     "text": [
      "[50, 45, 80]\n"
     ]
    }
   ],
   "source": [
    "def is_adult(age):\n",
    "    return age >= 18\n",
    "ages = [2, 3, 4, 50, 45, 80]\n",
    "print(list(filter(is_adult, ages)))"
   ]
  },
  {
   "cell_type": "code",
   "execution_count": 22,
   "id": "e5c19223-f6d4-42a1-a819-4751883f509e",
   "metadata": {},
   "outputs": [
    {
     "name": "stdout",
     "output_type": "stream",
     "text": [
      "[50, 45, 80]\n"
     ]
    }
   ],
   "source": [
    "is_adult = lambda age: age >= 18\n",
    "ages = [2, 3, 4, 50, 45, 80]\n",
    "print(list(filter(is_adult, ages)))"
   ]
  },
  {
   "cell_type": "code",
   "execution_count": 23,
   "id": "52d7a25b-b620-434f-a55f-a7e35d5973a1",
   "metadata": {},
   "outputs": [
    {
     "name": "stdout",
     "output_type": "stream",
     "text": [
      "[50, 45, 80]\n"
     ]
    }
   ],
   "source": [
    "ages = [2, 3, 4, 50, 45, 80]\n",
    "print(list(filter(lambda age: age >= 18, ages)))"
   ]
  },
  {
   "cell_type": "code",
   "execution_count": 24,
   "id": "72c15a8d-1ebd-403e-ac42-f7fb0c311ded",
   "metadata": {},
   "outputs": [],
   "source": [
    "multiplier = lambda x, y: x*y"
   ]
  },
  {
   "cell_type": "code",
   "execution_count": 26,
   "id": "5d8a958c-fb43-4ecc-bfc4-01cb8f3476a7",
   "metadata": {},
   "outputs": [
    {
     "data": {
      "text/plain": [
       "6"
      ]
     },
     "execution_count": 26,
     "metadata": {},
     "output_type": "execute_result"
    }
   ],
   "source": [
    "multiplier(2, 3)"
   ]
  }
 ],
 "metadata": {
  "kernelspec": {
   "display_name": "Python 3 (ipykernel)",
   "language": "python",
   "name": "python3"
  },
  "language_info": {
   "codemirror_mode": {
    "name": "ipython",
    "version": 3
   },
   "file_extension": ".py",
   "mimetype": "text/x-python",
   "name": "python",
   "nbconvert_exporter": "python",
   "pygments_lexer": "ipython3",
   "version": "3.10.9"
  }
 },
 "nbformat": 4,
 "nbformat_minor": 5
}
