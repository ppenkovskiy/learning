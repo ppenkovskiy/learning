{
 "cells": [
  {
   "cell_type": "code",
   "execution_count": 74,
   "id": "28544069-ab4f-49b2-af1e-e739070edbcc",
   "metadata": {},
   "outputs": [],
   "source": [
    "import math\n",
    "\n",
    "def calc_square(ab, ac, bc):\n",
    "    if ab<=0 or ac<=0 or bc<=0:\n",
    "        raise ValueError(\"Triangle side/s is <= 0\")\n",
    "    p = (ab + ac + bc) / 2\n",
    "    s = math.sqrt(p * (p-ab)*(p-ac)*(p-bc)) \n",
    "    return s"
   ]
  },
  {
   "cell_type": "code",
   "execution_count": 75,
   "id": "2a58925e-4a25-48d4-907b-390c7827abc1",
   "metadata": {},
   "outputs": [
    {
     "name": "stdout",
     "output_type": "stream",
     "text": [
      "43.3013\n"
     ]
    }
   ],
   "source": [
    "square = calc_square(10, 10, 10)\n",
    "print(round(square, 4))"
   ]
  },
  {
   "cell_type": "code",
   "execution_count": 76,
   "id": "882f0bf8-a0eb-47db-bea7-629da43c1f0d",
   "metadata": {},
   "outputs": [
    {
     "ename": "ValueError",
     "evalue": "Triangle side/s is <= 0",
     "output_type": "error",
     "traceback": [
      "\u001b[1;31m---------------------------------------------------------------------------\u001b[0m",
      "\u001b[1;31mValueError\u001b[0m                                Traceback (most recent call last)",
      "Cell \u001b[1;32mIn[76], line 1\u001b[0m\n\u001b[1;32m----> 1\u001b[0m square \u001b[38;5;241m=\u001b[39m \u001b[43mcalc_square\u001b[49m\u001b[43m(\u001b[49m\u001b[38;5;241;43m-\u001b[39;49m\u001b[38;5;241;43m2\u001b[39;49m\u001b[43m,\u001b[49m\u001b[43m \u001b[49m\u001b[38;5;241;43m8\u001b[39;49m\u001b[43m,\u001b[49m\u001b[43m \u001b[49m\u001b[38;5;241;43m8\u001b[39;49m\u001b[43m)\u001b[49m\n\u001b[0;32m      2\u001b[0m \u001b[38;5;28mprint\u001b[39m(square)\n",
      "Cell \u001b[1;32mIn[74], line 5\u001b[0m, in \u001b[0;36mcalc_square\u001b[1;34m(ab, ac, bc)\u001b[0m\n\u001b[0;32m      3\u001b[0m \u001b[38;5;28;01mdef\u001b[39;00m \u001b[38;5;21mcalc_square\u001b[39m(ab, ac, bc):\n\u001b[0;32m      4\u001b[0m     \u001b[38;5;28;01mif\u001b[39;00m ab\u001b[38;5;241m<\u001b[39m\u001b[38;5;241m=\u001b[39m\u001b[38;5;241m0\u001b[39m \u001b[38;5;129;01mor\u001b[39;00m ac\u001b[38;5;241m<\u001b[39m\u001b[38;5;241m=\u001b[39m\u001b[38;5;241m0\u001b[39m \u001b[38;5;129;01mor\u001b[39;00m bc\u001b[38;5;241m<\u001b[39m\u001b[38;5;241m=\u001b[39m\u001b[38;5;241m0\u001b[39m:\n\u001b[1;32m----> 5\u001b[0m         \u001b[38;5;28;01mraise\u001b[39;00m \u001b[38;5;167;01mValueError\u001b[39;00m(\u001b[38;5;124m\"\u001b[39m\u001b[38;5;124mTriangle side/s is <= 0\u001b[39m\u001b[38;5;124m\"\u001b[39m)\n\u001b[0;32m      6\u001b[0m     p \u001b[38;5;241m=\u001b[39m (ab \u001b[38;5;241m+\u001b[39m ac \u001b[38;5;241m+\u001b[39m bc) \u001b[38;5;241m/\u001b[39m \u001b[38;5;241m2\u001b[39m\n\u001b[0;32m      7\u001b[0m     s \u001b[38;5;241m=\u001b[39m math\u001b[38;5;241m.\u001b[39msqrt(p \u001b[38;5;241m*\u001b[39m (p\u001b[38;5;241m-\u001b[39mab)\u001b[38;5;241m*\u001b[39m(p\u001b[38;5;241m-\u001b[39mac)\u001b[38;5;241m*\u001b[39m(p\u001b[38;5;241m-\u001b[39mbc)) \n",
      "\u001b[1;31mValueError\u001b[0m: Triangle side/s is <= 0"
     ]
    }
   ],
   "source": [
    "square = calc_square(-2, 8, 8)\n",
    "print(square)"
   ]
  },
  {
   "cell_type": "code",
   "execution_count": 77,
   "id": "ecc66b85-ade4-4207-86d8-2d18fa184187",
   "metadata": {},
   "outputs": [],
   "source": [
    "class InvaliTriangleError(Exception):\n",
    "    \"\"\"Raised when triangle side/s is <= 0\"\"\""
   ]
  },
  {
   "cell_type": "code",
   "execution_count": 78,
   "id": "ff0ad3fc-df19-48d7-b125-306401a9696a",
   "metadata": {},
   "outputs": [],
   "source": [
    "import math\n",
    "\n",
    "def calc_square(ab, ac, bc):\n",
    "    if ab<=0 or ac<=0 or bc<=0:\n",
    "        raise InvaliTriangleError(\"Triangle side/s is <= 0\")\n",
    "    p = (ab + ac + bc) / 2\n",
    "    s = math.sqrt(p * (p-ab)*(p-ac)*(p-bc)) \n",
    "    return s"
   ]
  },
  {
   "cell_type": "code",
   "execution_count": 79,
   "id": "cf1a3731-616e-43b0-8337-f477efdcb05a",
   "metadata": {},
   "outputs": [
    {
     "ename": "InvaliTriangleError",
     "evalue": "Triangle side/s is <= 0",
     "output_type": "error",
     "traceback": [
      "\u001b[1;31m---------------------------------------------------------------------------\u001b[0m",
      "\u001b[1;31mInvaliTriangleError\u001b[0m                       Traceback (most recent call last)",
      "Cell \u001b[1;32mIn[79], line 1\u001b[0m\n\u001b[1;32m----> 1\u001b[0m square \u001b[38;5;241m=\u001b[39m \u001b[43mcalc_square\u001b[49m\u001b[43m(\u001b[49m\u001b[38;5;241;43m-\u001b[39;49m\u001b[38;5;241;43m2\u001b[39;49m\u001b[43m,\u001b[49m\u001b[43m \u001b[49m\u001b[38;5;241;43m8\u001b[39;49m\u001b[43m,\u001b[49m\u001b[43m \u001b[49m\u001b[38;5;241;43m8\u001b[39;49m\u001b[43m)\u001b[49m\n\u001b[0;32m      2\u001b[0m \u001b[38;5;28mprint\u001b[39m(square)\n",
      "Cell \u001b[1;32mIn[78], line 5\u001b[0m, in \u001b[0;36mcalc_square\u001b[1;34m(ab, ac, bc)\u001b[0m\n\u001b[0;32m      3\u001b[0m \u001b[38;5;28;01mdef\u001b[39;00m \u001b[38;5;21mcalc_square\u001b[39m(ab, ac, bc):\n\u001b[0;32m      4\u001b[0m     \u001b[38;5;28;01mif\u001b[39;00m ab\u001b[38;5;241m<\u001b[39m\u001b[38;5;241m=\u001b[39m\u001b[38;5;241m0\u001b[39m \u001b[38;5;129;01mor\u001b[39;00m ac\u001b[38;5;241m<\u001b[39m\u001b[38;5;241m=\u001b[39m\u001b[38;5;241m0\u001b[39m \u001b[38;5;129;01mor\u001b[39;00m bc\u001b[38;5;241m<\u001b[39m\u001b[38;5;241m=\u001b[39m\u001b[38;5;241m0\u001b[39m:\n\u001b[1;32m----> 5\u001b[0m         \u001b[38;5;28;01mraise\u001b[39;00m InvaliTriangleError(\u001b[38;5;124m\"\u001b[39m\u001b[38;5;124mTriangle side/s is <= 0\u001b[39m\u001b[38;5;124m\"\u001b[39m)\n\u001b[0;32m      6\u001b[0m     p \u001b[38;5;241m=\u001b[39m (ab \u001b[38;5;241m+\u001b[39m ac \u001b[38;5;241m+\u001b[39m bc) \u001b[38;5;241m/\u001b[39m \u001b[38;5;241m2\u001b[39m\n\u001b[0;32m      7\u001b[0m     s \u001b[38;5;241m=\u001b[39m math\u001b[38;5;241m.\u001b[39msqrt(p \u001b[38;5;241m*\u001b[39m (p\u001b[38;5;241m-\u001b[39mab)\u001b[38;5;241m*\u001b[39m(p\u001b[38;5;241m-\u001b[39mac)\u001b[38;5;241m*\u001b[39m(p\u001b[38;5;241m-\u001b[39mbc)) \n",
      "\u001b[1;31mInvaliTriangleError\u001b[0m: Triangle side/s is <= 0"
     ]
    }
   ],
   "source": [
    "square = calc_square(-2, 8, 8)\n",
    "print(square)"
   ]
  },
  {
   "cell_type": "code",
   "execution_count": 85,
   "id": "6c284d66-3317-4854-baf3-437eff79545c",
   "metadata": {},
   "outputs": [
    {
     "name": "stdout",
     "output_type": "stream",
     "text": [
      "Triangle side/s is <= 0\n"
     ]
    }
   ],
   "source": [
    "try:\n",
    "    square = calc_square(-2, 8, 8)\n",
    "except InvaliTriangleError as ex:\n",
    "    print(ex)\n",
    "else:\n",
    "    print(round(square, 4))"
   ]
  },
  {
   "cell_type": "code",
   "execution_count": 86,
   "id": "bc037531-59fc-4e08-a845-1c84f626e6d0",
   "metadata": {},
   "outputs": [
    {
     "name": "stdout",
     "output_type": "stream",
     "text": [
      "7.9373\n"
     ]
    }
   ],
   "source": [
    "try:\n",
    "    square = calc_square(2, 8, 8)\n",
    "except InvaliTriangleError as ex:\n",
    "    print(ex)\n",
    "else:\n",
    "    print(round(square, 4))"
   ]
  }
 ],
 "metadata": {
  "kernelspec": {
   "display_name": "Python 3 (ipykernel)",
   "language": "python",
   "name": "python3"
  },
  "language_info": {
   "codemirror_mode": {
    "name": "ipython",
    "version": 3
   },
   "file_extension": ".py",
   "mimetype": "text/x-python",
   "name": "python",
   "nbconvert_exporter": "python",
   "pygments_lexer": "ipython3",
   "version": "3.10.9"
  }
 },
 "nbformat": 4,
 "nbformat_minor": 5
}
