{
 "cells": [
  {
   "cell_type": "code",
   "execution_count": 1,
   "id": "12446730-8b65-4c53-9cba-11626c8ad647",
   "metadata": {},
   "outputs": [
    {
     "data": {
      "text/plain": [
       "'C:\\\\Users\\\\Pavel Penkovskiy\\\\Desktop\\\\learning\\\\python_es'"
      ]
     },
     "execution_count": 1,
     "metadata": {},
     "output_type": "execute_result"
    }
   ],
   "source": [
    "pwd"
   ]
  },
  {
   "cell_type": "code",
   "execution_count": 2,
   "id": "71725318-acb6-408e-9da2-e1cf673c3cf0",
   "metadata": {},
   "outputs": [
    {
     "name": "stdout",
     "output_type": "stream",
     "text": [
      "Overwriting sample.txt\n"
     ]
    }
   ],
   "source": [
    "%%writefile sample.txt\n",
    "Name|Phone\n",
    "John;1234\n",
    "Bob;5678\n",
    "Alice;9432"
   ]
  },
  {
   "cell_type": "code",
   "execution_count": 3,
   "id": "890faad8-45e3-4259-910d-8542343d4d2c",
   "metadata": {},
   "outputs": [],
   "source": [
    "file = open('sample.txt')"
   ]
  },
  {
   "cell_type": "code",
   "execution_count": 4,
   "id": "dac64024-902b-47c3-8ef0-ac163dac420a",
   "metadata": {},
   "outputs": [
    {
     "name": "stdout",
     "output_type": "stream",
     "text": [
      "['Name|Phone\\n', 'John;1234\\n', 'Bob;5678\\n', 'Alice;9432\\n']\n",
      "<class 'list'>\n"
     ]
    }
   ],
   "source": [
    "res = file.readlines()\n",
    "print(res)\n",
    "print(type(res))"
   ]
  },
  {
   "cell_type": "code",
   "execution_count": null,
   "id": "51f26ce8-6bd2-4b01-abae-ee616d1b54bf",
   "metadata": {},
   "outputs": [],
   "source": []
  },
  {
   "cell_type": "code",
   "execution_count": 5,
   "id": "8189f35e-f1f1-47d1-899a-4fc3ff290553",
   "metadata": {},
   "outputs": [
    {
     "name": "stdout",
     "output_type": "stream",
     "text": [
      "Name|Phone\n",
      "John;1234\n",
      "Bob;5678\n",
      "Alice;9432\n",
      "\n",
      "<class 'str'>\n"
     ]
    }
   ],
   "source": [
    "file.seek(0) # move the cursor to the beginning of the file, to null byte\n",
    "res = file.read()\n",
    "print(res)\n",
    "print(type(file.read()))"
   ]
  },
  {
   "cell_type": "code",
   "execution_count": 6,
   "id": "a844eba0-e01e-422e-b59c-8ac33c7aa39e",
   "metadata": {},
   "outputs": [
    {
     "name": "stdout",
     "output_type": "stream",
     "text": [
      "['Name|Phone\\n', 'John;1234\\n', 'Bob;5678\\n', 'Alice;9432\\n']\n",
      "<class 'list'>\n"
     ]
    }
   ],
   "source": [
    "file.seek(0)\n",
    "lines = file.readlines()\n",
    "print(lines)\n",
    "print(type(lines))"
   ]
  },
  {
   "cell_type": "code",
   "execution_count": 7,
   "id": "8a47cdda-80f8-48cc-8822-a9b71282d318",
   "metadata": {},
   "outputs": [
    {
     "data": {
      "text/plain": [
       "4"
      ]
     },
     "execution_count": 7,
     "metadata": {},
     "output_type": "execute_result"
    }
   ],
   "source": [
    "len(lines)"
   ]
  },
  {
   "cell_type": "code",
   "execution_count": 8,
   "id": "1c775a21-191a-455c-8b85-e2ee9a3717aa",
   "metadata": {},
   "outputs": [
    {
     "name": "stdout",
     "output_type": "stream",
     "text": [
      "<_io.TextIOWrapper name='C:\\\\Users\\\\Pavel Penkovskiy\\\\Desktop\\\\learning\\\\python_es\\\\sample.txt' mode='r' encoding='cp1252'>\n"
     ]
    }
   ],
   "source": [
    "sample_file = open('C:\\\\Users\\\\Pavel Penkovskiy\\\\Desktop\\\\learning\\\\python_es\\\\sample.txt')\n",
    "print(sample_file)"
   ]
  },
  {
   "cell_type": "code",
   "execution_count": 9,
   "id": "26ce4af0-bda2-4303-8a56-d14b1a1ba8ab",
   "metadata": {},
   "outputs": [],
   "source": [
    "file.close()"
   ]
  },
  {
   "cell_type": "code",
   "execution_count": 10,
   "id": "a1d9ea31-63e3-4435-86f0-419f88c68761",
   "metadata": {},
   "outputs": [
    {
     "name": "stdout",
     "output_type": "stream",
     "text": [
      "['Name|Phone\\n', 'John;1234\\n', 'Bob;5678\\n', 'Alice;9432\\n']\n"
     ]
    }
   ],
   "source": [
    "with open('sample.txt') as file:\n",
    "    res = file.readlines()\n",
    "print(res)"
   ]
  },
  {
   "cell_type": "code",
   "execution_count": 11,
   "id": "054fc631-2495-41b1-9013-3f941b513892",
   "metadata": {},
   "outputs": [],
   "source": [
    "with open('sample.txt', mode='a') as file:\n",
    "    file.write('Keanu;9999')"
   ]
  },
  {
   "cell_type": "code",
   "execution_count": 12,
   "id": "a8c47bd8-1880-446d-8f66-0dc70a0c053e",
   "metadata": {},
   "outputs": [
    {
     "name": "stdout",
     "output_type": "stream",
     "text": [
      "['Name|Phone\\n', 'John;1234\\n', 'Bob;5678\\n', 'Alice;9432\\n', 'Keanu;9999']\n"
     ]
    }
   ],
   "source": [
    "with open('sample.txt') as file:\n",
    "    print(file.readlines())"
   ]
  },
  {
   "cell_type": "code",
   "execution_count": 13,
   "id": "c669f815-3cc0-4add-bdcf-b4a44b339cd9",
   "metadata": {},
   "outputs": [
    {
     "name": "stdout",
     "output_type": "stream",
     "text": [
      "['Name|Phone\\n', 'John;1234\\n', 'Bob;5678\\n', 'Alice;9432\\n', 'Keanu;9999\\n', 'Pav;1111']\n"
     ]
    }
   ],
   "source": [
    "with open('sample.txt', mode='r+') as file:\n",
    "    file.seek(0, 2)\n",
    "    file.write('\\nPav;1111')\n",
    "    file.seek(0)\n",
    "    res = file.readlines()\n",
    "\n",
    "print(res)"
   ]
  },
  {
   "cell_type": "code",
   "execution_count": 17,
   "id": "0c141f58-f021-4c37-9b25-aa8fe759f97a",
   "metadata": {},
   "outputs": [
    {
     "name": "stdout",
     "output_type": "stream",
     "text": [
      "['Paul;1111']\n"
     ]
    }
   ],
   "source": [
    "with open('sample_2.txt', mode='w+') as file:\n",
    "    file.write('Paul;1111')\n",
    "    file.seek(0)\n",
    "    res = file.readlines()\n",
    "print(res)"
   ]
  },
  {
   "cell_type": "code",
   "execution_count": null,
   "id": "fe5418b9-1e75-46ec-9d17-221ba63ac8a0",
   "metadata": {},
   "outputs": [],
   "source": []
  }
 ],
 "metadata": {
  "kernelspec": {
   "display_name": "Python 3 (ipykernel)",
   "language": "python",
   "name": "python3"
  },
  "language_info": {
   "codemirror_mode": {
    "name": "ipython",
    "version": 3
   },
   "file_extension": ".py",
   "mimetype": "text/x-python",
   "name": "python",
   "nbconvert_exporter": "python",
   "pygments_lexer": "ipython3",
   "version": "3.10.9"
  }
 },
 "nbformat": 4,
 "nbformat_minor": 5
}
